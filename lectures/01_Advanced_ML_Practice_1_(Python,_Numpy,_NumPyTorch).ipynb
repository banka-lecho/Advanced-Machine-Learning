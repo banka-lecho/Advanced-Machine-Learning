{
  "nbformat": 4,
  "nbformat_minor": 0,
  "metadata": {
    "colab": {
      "provenance": [],
      "collapsed_sections": [
        "RbD0Dd-M82-_",
        "MRQgTpmo8V0Q",
        "26w9jq0QAeVd",
        "blj30j9q_yzo",
        "zVtjg2LxvcXj",
        "OpERrU1iOzNW",
        "mRYcWSqARMky",
        "VmG03XiDSvAQ",
        "sw-tk2gKxo-m",
        "mdTTvLKNnWTK",
        "eJlBEmSUtopV",
        "LHal9bFS4WKp",
        "IyYCUgPmtvsW",
        "HwSxrr21xuGh",
        "P_nb726E1--l",
        "XzWfg5loWBoJ",
        "gwpAeh2KWBoL",
        "9odrxbTN_WrS",
        "AbeUow9I2BfK",
        "O5aIAwLTUZHv",
        "4txAMuTTj3RX"
      ]
    },
    "kernelspec": {
      "name": "python3",
      "display_name": "Python 3"
    },
    "language_info": {
      "name": "python"
    }
  },
  "cells": [
    {
      "cell_type": "markdown",
      "source": [
        "# Python важное"
      ],
      "metadata": {
        "id": "AaNe6fYt7Fwl"
      }
    },
    {
      "cell_type": "markdown",
      "source": [
        "#### Встроенные функции [built-in functions](https://docs.python.org/3/library/functions.html#built-in-functions)"
      ],
      "metadata": {
        "id": "RbD0Dd-M82-_"
      }
    },
    {
      "cell_type": "code",
      "source": [
        "bool_arr = [True, True, False]\n",
        "num_arr = [1, 2, 3]\n",
        "print(type(bool_arr))\n",
        "print(len(bool_arr))\n",
        "print(all(bool_arr))\n",
        "print(any(bool_arr))\n",
        "print(sum(bool_arr))\n",
        "print(abs(-4))\n",
        "print(round(5.4))\n",
        "print(int(-4.))\n",
        "print(float(5))\n",
        "zipped = list(zip(bool_arr, num_arr))\n",
        "print(zipped)\n",
        "print(list(map(lambda x: (x[0], x[1] ** 2), zipped)))\n",
        "print(list(filter(lambda x: x[0], zipped)))"
      ],
      "metadata": {
        "colab": {
          "base_uri": "https://localhost:8080/"
        },
        "id": "Vz2i75Zd846f",
        "outputId": "db1dc1cd-3550-4183-ab57-1bf32955b064"
      },
      "execution_count": null,
      "outputs": [
        {
          "output_type": "stream",
          "name": "stdout",
          "text": [
            "<class 'list'>\n",
            "3\n",
            "False\n",
            "True\n",
            "2\n",
            "4\n",
            "5\n",
            "-4\n",
            "5.0\n",
            "[(True, 1), (True, 2), (False, 3)]\n",
            "[(True, 1), (True, 4), (False, 9)]\n",
            "[(True, 1), (True, 2)]\n"
          ]
        }
      ]
    },
    {
      "cell_type": "markdown",
      "source": [
        "#### Comprehensions"
      ],
      "metadata": {
        "id": "MRQgTpmo8V0Q"
      }
    },
    {
      "cell_type": "markdown",
      "source": [
        "[Обсуждение сравнения скорости с обычным for](https://stackoverflow.com/questions/30245397/why-is-a-list-comprehension-so-much-faster-than-appending-to-a-list)"
      ],
      "metadata": {
        "id": "vTtCmuBbGyF4"
      }
    },
    {
      "cell_type": "code",
      "source": [
        "[(i, j) for i in range(10, 15) if i % 2 == 0 for j in range(0, 5)] # list comprehension"
      ],
      "metadata": {
        "colab": {
          "base_uri": "https://localhost:8080/"
        },
        "id": "EzN0tsgk7KsO",
        "outputId": "0a1565b1-416d-4ce0-b962-eff2937b291f"
      },
      "execution_count": null,
      "outputs": [
        {
          "output_type": "execute_result",
          "data": {
            "text/plain": [
              "[(10, 0),\n",
              " (10, 1),\n",
              " (10, 2),\n",
              " (10, 3),\n",
              " (10, 4),\n",
              " (12, 0),\n",
              " (12, 1),\n",
              " (12, 2),\n",
              " (12, 3),\n",
              " (12, 4),\n",
              " (14, 0),\n",
              " (14, 1),\n",
              " (14, 2),\n",
              " (14, 3),\n",
              " (14, 4)]"
            ]
          },
          "metadata": {},
          "execution_count": 2
        }
      ]
    },
    {
      "cell_type": "code",
      "source": [
        "{x for x in range(2, 50) if all(x % y for y in range(2, min(x, 8)))} # set comprehension"
      ],
      "metadata": {
        "colab": {
          "base_uri": "https://localhost:8080/"
        },
        "id": "bEVTOhnc8Yv7",
        "outputId": "452019da-d83d-4425-b873-5834ed8efe05"
      },
      "execution_count": null,
      "outputs": [
        {
          "output_type": "execute_result",
          "data": {
            "text/plain": [
              "{2, 3, 5, 7, 11, 13, 17, 19, 23, 29, 31, 37, 41, 43, 47}"
            ]
          },
          "metadata": {},
          "execution_count": 3
        }
      ]
    },
    {
      "cell_type": "code",
      "source": [
        "{key: value for key, value in zip(['a','b','c','d'], [1, 2, 3, 4])} # dict comprehension"
      ],
      "metadata": {
        "colab": {
          "base_uri": "https://localhost:8080/"
        },
        "id": "lQa-8f177sKn",
        "outputId": "9857481b-63c8-4568-dfa5-2354f5b06354"
      },
      "execution_count": null,
      "outputs": [
        {
          "output_type": "execute_result",
          "data": {
            "text/plain": [
              "{'a': 1, 'b': 2, 'c': 3, 'd': 4}"
            ]
          },
          "metadata": {},
          "execution_count": 4
        }
      ]
    },
    {
      "cell_type": "markdown",
      "source": [
        "#### Unpacking"
      ],
      "metadata": {
        "id": "26w9jq0QAeVd"
      }
    },
    {
      "cell_type": "code",
      "source": [
        "a, b = 5, 6\n",
        "print(a, b)\n",
        "a, b = b, a\n",
        "print(a, b)"
      ],
      "metadata": {
        "colab": {
          "base_uri": "https://localhost:8080/"
        },
        "id": "mWeNPo8hAz0s",
        "outputId": "6549cdce-2f9e-4e9f-9251-cb22b7f15b88"
      },
      "execution_count": null,
      "outputs": [
        {
          "output_type": "stream",
          "name": "stdout",
          "text": [
            "5 6\n",
            "6 5\n"
          ]
        }
      ]
    },
    {
      "cell_type": "code",
      "source": [
        "arr = [1, 2, 3]\n",
        "a, b, c = arr\n",
        "print(a, b, c)"
      ],
      "metadata": {
        "colab": {
          "base_uri": "https://localhost:8080/"
        },
        "id": "yuF9U3mgAgXi",
        "outputId": "5fcaaa34-6484-4242-f7a7-cc688f803254"
      },
      "execution_count": null,
      "outputs": [
        {
          "output_type": "stream",
          "name": "stdout",
          "text": [
            "1 2 3\n"
          ]
        }
      ]
    },
    {
      "cell_type": "code",
      "source": [
        "[*arr, 100, 200, 300]"
      ],
      "metadata": {
        "colab": {
          "base_uri": "https://localhost:8080/"
        },
        "id": "0wMppnMEAs3d",
        "outputId": "79cea02b-b105-4dcb-ef49-b33b2ddbb93f"
      },
      "execution_count": null,
      "outputs": [
        {
          "output_type": "execute_result",
          "data": {
            "text/plain": [
              "[1, 2, 3, 100, 200, 300]"
            ]
          },
          "metadata": {},
          "execution_count": 7
        }
      ]
    },
    {
      "cell_type": "code",
      "source": [
        "def my_func(a, b, c):\n",
        "  return a, b, c\n",
        "\n",
        "args = [1, 2, 3]\n",
        "out = my_func(*args)\n",
        "out"
      ],
      "metadata": {
        "colab": {
          "base_uri": "https://localhost:8080/"
        },
        "id": "UY5wDKwIBxLZ",
        "outputId": "24edc675-a376-44d2-b3bd-7a9fa7d2096d"
      },
      "execution_count": null,
      "outputs": [
        {
          "output_type": "execute_result",
          "data": {
            "text/plain": [
              "(1, 2, 3)"
            ]
          },
          "metadata": {},
          "execution_count": 8
        }
      ]
    },
    {
      "cell_type": "code",
      "source": [
        "x, y, z = my_func(*args)\n",
        "print(x, y, z)"
      ],
      "metadata": {
        "colab": {
          "base_uri": "https://localhost:8080/"
        },
        "id": "j_tW-T2GCUa7",
        "outputId": "b993965e-b28a-41ca-cd0d-135e4a83cf88"
      },
      "execution_count": null,
      "outputs": [
        {
          "output_type": "stream",
          "name": "stdout",
          "text": [
            "1 2 3\n"
          ]
        }
      ]
    },
    {
      "cell_type": "markdown",
      "source": [
        "#### Function arguments"
      ],
      "metadata": {
        "id": "blj30j9q_yzo"
      }
    },
    {
      "cell_type": "code",
      "source": [
        "def func(arg1, *args, name1=None, **kwargs):\n",
        "  print(\"arg1:\", arg1)\n",
        "  for i, arg in enumerate(args):\n",
        "    print(f\"arg #{i} in args:\", arg)\n",
        "  print(\"name1:\", name1)\n",
        "  for i, (key, value) in enumerate(kwargs.items()):\n",
        "    print(f\"arg #{i} in kwargs: ({key}:{value})\")"
      ],
      "metadata": {
        "id": "lVL6CM20_14n"
      },
      "execution_count": null,
      "outputs": []
    },
    {
      "cell_type": "code",
      "source": [
        "func(10)"
      ],
      "metadata": {
        "colab": {
          "base_uri": "https://localhost:8080/"
        },
        "id": "6A6RKR-BE_Wz",
        "outputId": "699f59df-8999-4f18-c4ad-3ccb7fc4d8ab"
      },
      "execution_count": null,
      "outputs": [
        {
          "output_type": "stream",
          "name": "stdout",
          "text": [
            "arg1: 10\n",
            "name1: None\n"
          ]
        }
      ]
    },
    {
      "cell_type": "code",
      "source": [
        "func(1, name1='my_value')"
      ],
      "metadata": {
        "colab": {
          "base_uri": "https://localhost:8080/"
        },
        "id": "yid8toFeDSui",
        "outputId": "645121b5-f4d7-4bed-a44b-3cd3c63bd831"
      },
      "execution_count": null,
      "outputs": [
        {
          "output_type": "stream",
          "name": "stdout",
          "text": [
            "arg1: 1\n",
            "name1: my_value\n"
          ]
        }
      ]
    },
    {
      "cell_type": "code",
      "source": [
        "my_list_args = [10, 20, 30]\n",
        "my_dict_args = {'a': 1, 'b': 2}\n",
        "func(1, 2, 3, 4, 5, *my_list_args, abc='qwe', name1='my_value', **my_dict_args)"
      ],
      "metadata": {
        "colab": {
          "base_uri": "https://localhost:8080/"
        },
        "id": "arErwGc4DXLH",
        "outputId": "190eb464-3642-42fb-f1c1-59bb9bfd711f"
      },
      "execution_count": null,
      "outputs": [
        {
          "output_type": "stream",
          "name": "stdout",
          "text": [
            "arg1: 1\n",
            "arg #0 in args: 2\n",
            "arg #1 in args: 3\n",
            "arg #2 in args: 4\n",
            "arg #3 in args: 5\n",
            "arg #4 in args: 10\n",
            "arg #5 in args: 20\n",
            "arg #6 in args: 30\n",
            "name1: my_value\n",
            "arg #0 in kwargs: (abc:qwe)\n",
            "arg #1 in kwargs: (a:1)\n",
            "arg #2 in kwargs: (b:2)\n"
          ]
        }
      ]
    },
    {
      "cell_type": "markdown",
      "source": [
        "#### Классы"
      ],
      "metadata": {
        "id": "zVtjg2LxvcXj"
      }
    },
    {
      "cell_type": "code",
      "source": [
        "class MyClass:\n",
        "  static_field = 10\n",
        "\n",
        "  def __init__(self, data):\n",
        "    self.data = data\n",
        "\n",
        "  def __call__(self):\n",
        "    print(\"This object is callable!\")\n",
        "\n",
        "  def my_func(self):\n",
        "    print(f'Your data is: `{self.data}`')"
      ],
      "metadata": {
        "id": "Ikzj_rpyvdrq"
      },
      "execution_count": null,
      "outputs": []
    },
    {
      "cell_type": "code",
      "source": [
        "cls = MyClass(\"some data\")\n",
        "cls.data"
      ],
      "metadata": {
        "colab": {
          "base_uri": "https://localhost:8080/",
          "height": 36
        },
        "id": "g2q0rgGbvwNv",
        "outputId": "b1cf0fbc-9df9-4363-b3d0-c1b8accd2db3"
      },
      "execution_count": null,
      "outputs": [
        {
          "output_type": "execute_result",
          "data": {
            "text/plain": [
              "'some data'"
            ],
            "application/vnd.google.colaboratory.intrinsic+json": {
              "type": "string"
            }
          },
          "metadata": {},
          "execution_count": 13
        }
      ]
    },
    {
      "cell_type": "code",
      "source": [
        "cls.my_func()"
      ],
      "metadata": {
        "colab": {
          "base_uri": "https://localhost:8080/"
        },
        "id": "wt3aYah6wCJI",
        "outputId": "4b310b16-8573-472c-d239-1d1836b2ac51"
      },
      "execution_count": null,
      "outputs": [
        {
          "output_type": "stream",
          "name": "stdout",
          "text": [
            "Your data is: `some data`\n"
          ]
        }
      ]
    },
    {
      "cell_type": "code",
      "source": [
        "MyClass.my_func(cls)"
      ],
      "metadata": {
        "colab": {
          "base_uri": "https://localhost:8080/"
        },
        "id": "Ua2CX9Khv8qO",
        "outputId": "5cd3ef0e-0de6-4b2c-efc7-c44fad440cbd"
      },
      "execution_count": null,
      "outputs": [
        {
          "output_type": "stream",
          "name": "stdout",
          "text": [
            "Your data is: `some data`\n"
          ]
        }
      ]
    },
    {
      "cell_type": "code",
      "source": [
        "cls()"
      ],
      "metadata": {
        "colab": {
          "base_uri": "https://localhost:8080/"
        },
        "id": "_VjDO4BXwbSa",
        "outputId": "e84d27a9-bcac-451b-aaeb-2753199faa18"
      },
      "execution_count": null,
      "outputs": [
        {
          "output_type": "stream",
          "name": "stdout",
          "text": [
            "This object is callable!\n"
          ]
        }
      ]
    },
    {
      "cell_type": "code",
      "source": [
        "MyClass.static_field"
      ],
      "metadata": {
        "colab": {
          "base_uri": "https://localhost:8080/"
        },
        "id": "NGySS1Rcv5oU",
        "outputId": "61d53d2f-d5ea-4594-fa4c-3016deb39e37"
      },
      "execution_count": null,
      "outputs": [
        {
          "output_type": "execute_result",
          "data": {
            "text/plain": [
              "10"
            ]
          },
          "metadata": {},
          "execution_count": 17
        }
      ]
    },
    {
      "cell_type": "markdown",
      "source": [
        "#### Важно: значения передаются \"по ссылке\""
      ],
      "metadata": {
        "id": "OpERrU1iOzNW"
      }
    },
    {
      "cell_type": "code",
      "source": [
        "def func(a: list):\n",
        "  print(\"in func before:\", a)\n",
        "  a.append(1)\n",
        "  print(\"in func after:\", a)\n",
        "\n",
        "my_list = [\"asd\", 4, 5.5]\n",
        "print(\"my_list init:\", my_list)\n",
        "\n",
        "func(my_list)\n",
        "print(\"my_list after func:\", my_list)"
      ],
      "metadata": {
        "colab": {
          "base_uri": "https://localhost:8080/"
        },
        "id": "Ysg9cPy9O7bW",
        "outputId": "940fd1d5-b4f5-4f3f-f9be-7f1bc6baf5f5"
      },
      "execution_count": null,
      "outputs": [
        {
          "output_type": "stream",
          "name": "stdout",
          "text": [
            "my_list init: ['asd', 4, 5.5]\n",
            "in func before: ['asd', 4, 5.5]\n",
            "in func after: ['asd', 4, 5.5, 1]\n",
            "my_list after func: ['asd', 4, 5.5, 1]\n"
          ]
        }
      ]
    },
    {
      "cell_type": "markdown",
      "source": [
        "#### Важно: в Python есть типы, хотя часто их нигде не указывают"
      ],
      "metadata": {
        "id": "mRYcWSqARMky"
      }
    },
    {
      "cell_type": "code",
      "source": [
        "a = 5\n",
        "print(type(a))\n",
        "\n",
        "b = 5.5\n",
        "print(type(b))\n",
        "\n",
        "c = \"abc\"\n",
        "print(type(c))\n",
        "\n",
        "print(type([1,2,3]))"
      ],
      "metadata": {
        "colab": {
          "base_uri": "https://localhost:8080/"
        },
        "id": "EB1B8JbVRVa9",
        "outputId": "cdba8201-dfd2-4554-ec31-a57be6ef0de2"
      },
      "execution_count": null,
      "outputs": [
        {
          "output_type": "stream",
          "name": "stdout",
          "text": [
            "<class 'int'>\n",
            "<class 'float'>\n",
            "<class 'str'>\n",
            "<class 'list'>\n"
          ]
        }
      ]
    },
    {
      "cell_type": "code",
      "source": [
        "a = 5\n",
        "print(type(a))\n",
        "\n",
        "a = 5.0\n",
        "print(type(a))\n",
        "\n",
        "a = 5+0j\n",
        "print(type(a))"
      ],
      "metadata": {
        "colab": {
          "base_uri": "https://localhost:8080/"
        },
        "id": "4_yzCHGxRgPi",
        "outputId": "5504e629-f815-477a-a75d-57ed52133a38"
      },
      "execution_count": null,
      "outputs": [
        {
          "output_type": "stream",
          "name": "stdout",
          "text": [
            "<class 'int'>\n",
            "<class 'float'>\n",
            "<class 'complex'>\n"
          ]
        }
      ]
    },
    {
      "cell_type": "markdown",
      "source": [
        "#### Важно: list и tuple"
      ],
      "metadata": {
        "id": "VmG03XiDSvAQ"
      }
    },
    {
      "cell_type": "markdown",
      "source": [
        "**_Немного про List_**\n",
        "\n",
        "В Python структура данных list реализована как динамический массив. Это означает, что элементы списка хранятся в непрерывном блоке памяти, и при добавлении новых элементов (например, с помощью метода append) может происходить перераспределение памяти, если текущий размер массива становится недостаточным.\n",
        "\n",
        "1) Динамический размер: Списки могут изменять свой размер по мере добавления или удаления элементов. Когда список заполняется, Python автоматически выделяет больше памяти, чтобы разместить дополнительные элементы.\n",
        "\n",
        "2) Произвольный доступ: Элементы списка могут быть доступны по индексу, что позволяет быстро получать доступ к элементам (время доступа O(1)).\n",
        "\n",
        "3) Гетерогенность: Списки могут содержать элементы разных типов, включая другие списки, что позволяет создавать сложные структуры данных.\n",
        "\n",
        "4) Вставка и удаление: Вставка и удаление элементов в середину списка может быть менее эффективной, чем в конце, так как требует сдвига элементов (время O(n) в худшем случае)."
      ],
      "metadata": {
        "id": "yHzGCYqWUHV2"
      }
    },
    {
      "cell_type": "code",
      "source": [
        "a = [1,2,3]\n",
        "b = (1,2,3)\n",
        "print(a)\n",
        "print(b)\n",
        "# В чем разница?"
      ],
      "metadata": {
        "colab": {
          "base_uri": "https://localhost:8080/"
        },
        "id": "w9UpGdhlS1N-",
        "outputId": "882efcf2-edad-4851-e326-236edb223ce3"
      },
      "execution_count": null,
      "outputs": [
        {
          "output_type": "stream",
          "name": "stdout",
          "text": [
            "[1, 2, 3]\n",
            "(1, 2, 3)\n"
          ]
        }
      ]
    },
    {
      "cell_type": "code",
      "source": [
        "a.append(10)\n",
        "a"
      ],
      "metadata": {
        "colab": {
          "base_uri": "https://localhost:8080/"
        },
        "id": "D99Yk7ikS8RU",
        "outputId": "c9f5b58c-e568-4e83-f576-2d3f434e8441"
      },
      "execution_count": null,
      "outputs": [
        {
          "output_type": "execute_result",
          "data": {
            "text/plain": [
              "[1, 2, 3, 10]"
            ]
          },
          "metadata": {},
          "execution_count": 22
        }
      ]
    },
    {
      "cell_type": "code",
      "source": [
        "b.append(10)"
      ],
      "metadata": {
        "colab": {
          "base_uri": "https://localhost:8080/",
          "height": 150
        },
        "id": "km3uBWwKTAlv",
        "outputId": "d54d75dd-867b-4e4a-b71f-90274000c115"
      },
      "execution_count": null,
      "outputs": [
        {
          "output_type": "error",
          "ename": "AttributeError",
          "evalue": "'tuple' object has no attribute 'append'",
          "traceback": [
            "\u001b[0;31m---------------------------------------------------------------------------\u001b[0m",
            "\u001b[0;31mAttributeError\u001b[0m                            Traceback (most recent call last)",
            "\u001b[0;32m<ipython-input-23-569d1e0ba1e2>\u001b[0m in \u001b[0;36m<cell line: 1>\u001b[0;34m()\u001b[0m\n\u001b[0;32m----> 1\u001b[0;31m \u001b[0mb\u001b[0m\u001b[0;34m.\u001b[0m\u001b[0mappend\u001b[0m\u001b[0;34m(\u001b[0m\u001b[0;36m10\u001b[0m\u001b[0;34m)\u001b[0m\u001b[0;34m\u001b[0m\u001b[0;34m\u001b[0m\u001b[0m\n\u001b[0m",
            "\u001b[0;31mAttributeError\u001b[0m: 'tuple' object has no attribute 'append'"
          ]
        }
      ]
    },
    {
      "cell_type": "code",
      "source": [
        "# Лист из одного элемента\n",
        "a = [1]\n",
        "a"
      ],
      "metadata": {
        "colab": {
          "base_uri": "https://localhost:8080/"
        },
        "id": "gqxZrRHjTIn3",
        "outputId": "81a58e87-8ce5-4edd-ac70-3d0e81371f6b"
      },
      "execution_count": null,
      "outputs": [
        {
          "output_type": "execute_result",
          "data": {
            "text/plain": [
              "[1]"
            ]
          },
          "metadata": {},
          "execution_count": 24
        }
      ]
    },
    {
      "cell_type": "code",
      "source": [
        "# Как создать tuple из одного элемента?\n",
        "a = (1,) # Просто (1) без запятой - неправильно!!\n",
        "a"
      ],
      "metadata": {
        "colab": {
          "base_uri": "https://localhost:8080/"
        },
        "id": "BBq-lF15TCg_",
        "outputId": "3d001cfc-1381-4205-a8e6-f8c37969e92f"
      },
      "execution_count": null,
      "outputs": [
        {
          "output_type": "execute_result",
          "data": {
            "text/plain": [
              "(1,)"
            ]
          },
          "metadata": {},
          "execution_count": 25
        }
      ]
    },
    {
      "cell_type": "code",
      "source": [
        "# При этом:\n",
        "a = (1, 2,) # Последняя запятая уже игнорируется! (но это очень удобно при создании многострочных данных)\n",
        "a"
      ],
      "metadata": {
        "colab": {
          "base_uri": "https://localhost:8080/"
        },
        "id": "u_3Jai7YTXVA",
        "outputId": "a563ae16-8883-4bf0-8094-67fce984356a"
      },
      "execution_count": null,
      "outputs": [
        {
          "output_type": "execute_result",
          "data": {
            "text/plain": [
              "(1, 2)"
            ]
          },
          "metadata": {},
          "execution_count": 26
        }
      ]
    },
    {
      "cell_type": "code",
      "source": [
        "# Tuple можно создать и без скобочек!\n",
        "a = 1, 2\n",
        "a"
      ],
      "metadata": {
        "colab": {
          "base_uri": "https://localhost:8080/"
        },
        "id": "Wyow8NWCVr1G",
        "outputId": "515276b3-93e6-4b90-c482-d0089ac22adf"
      },
      "execution_count": null,
      "outputs": [
        {
          "output_type": "execute_result",
          "data": {
            "text/plain": [
              "(1, 2)"
            ]
          },
          "metadata": {},
          "execution_count": 27
        }
      ]
    },
    {
      "cell_type": "code",
      "source": [
        "# Tuple можно создать и без скобочек!\n",
        "a = 1, 2,\n",
        "a"
      ],
      "metadata": {
        "colab": {
          "base_uri": "https://localhost:8080/"
        },
        "id": "s0GnyiaHi6MT",
        "outputId": "ee2b747e-f6c2-4bb2-8850-245d5afd770e"
      },
      "execution_count": null,
      "outputs": [
        {
          "output_type": "execute_result",
          "data": {
            "text/plain": [
              "(1, 2)"
            ]
          },
          "metadata": {},
          "execution_count": 28
        }
      ]
    },
    {
      "cell_type": "markdown",
      "source": [
        "#Numpy basics"
      ],
      "metadata": {
        "id": "DQtHZUlRMszX"
      }
    },
    {
      "cell_type": "markdown",
      "source": [
        "[Numpy quickstart tutorial](https://numpy.org/doc/stable/user/quickstart.html)"
      ],
      "metadata": {
        "id": "o8s05Y5tIny6"
      }
    },
    {
      "cell_type": "code",
      "source": [
        "!pip install numpy"
      ],
      "metadata": {
        "colab": {
          "base_uri": "https://localhost:8080/"
        },
        "id": "HAb8WTa8MxhJ",
        "outputId": "0a710719-6436-4eba-e297-a04469ee7dcf"
      },
      "execution_count": null,
      "outputs": [
        {
          "output_type": "stream",
          "name": "stdout",
          "text": [
            "Requirement already satisfied: numpy in /usr/local/lib/python3.10/dist-packages (1.26.4)\n"
          ]
        }
      ]
    },
    {
      "cell_type": "code",
      "execution_count": 3,
      "metadata": {
        "id": "cp7X9LjzAUnX"
      },
      "outputs": [],
      "source": [
        "import numpy as np"
      ]
    },
    {
      "cell_type": "markdown",
      "source": [
        "#### Создание примитивных массивов"
      ],
      "metadata": {
        "id": "sw-tk2gKxo-m"
      }
    },
    {
      "cell_type": "markdown",
      "source": [
        "**_Как это устроено изнутри?_**\n",
        "\n",
        "Под капотом np.array() лежит такая структура данных как массив.\n",
        "\n",
        "1) Фиксированный размер: Размер массива определяется при создании и обычно не может изменяться без выделения новой области памяти.\n",
        "\n",
        "2) Непрерывное размещение в памяти: Элементы массива располагаются последовательно в одной области памяти, что обеспечивает быстрый доступ к каждому элементу. Память для np.array выделяется в куче\n",
        "\n",
        "3) Индексирование и получение элементов за О(1)\n",
        "\n",
        "4) В np.array можно положить данные разных типов, но с определёнными оговорками. Когда вы создаете массив NumPy с элементами разных типов, NumPy автоматически приводит все элементы к одному общему типу, чтобы обеспечить однородность массива. Это может привести к тому, что некоторые данные будут преобразованы или потеряны.\n",
        "\n"
      ],
      "metadata": {
        "id": "VImffbNVS5OP"
      }
    },
    {
      "cell_type": "code",
      "source": [
        "a = np.array([11, 22, 33, 44, 55, 66, 77, 88, 99])\n",
        "a"
      ],
      "metadata": {
        "colab": {
          "base_uri": "https://localhost:8080/"
        },
        "id": "uPXBSKowAYFJ",
        "outputId": "1b184da4-0849-42c9-8c91-4da79c8fa53d"
      },
      "execution_count": 4,
      "outputs": [
        {
          "output_type": "execute_result",
          "data": {
            "text/plain": [
              "array([11, 22, 33, 44, 55, 66, 77, 88, 99])"
            ]
          },
          "metadata": {},
          "execution_count": 4
        }
      ]
    },
    {
      "cell_type": "code",
      "source": [
        "type(a)"
      ],
      "metadata": {
        "colab": {
          "base_uri": "https://localhost:8080/"
        },
        "id": "vcMNu7X4Xb3g",
        "outputId": "e0201fc3-9e2e-496d-f893-be9770caf91d"
      },
      "execution_count": null,
      "outputs": [
        {
          "output_type": "execute_result",
          "data": {
            "text/plain": [
              "numpy.ndarray"
            ]
          },
          "metadata": {},
          "execution_count": 32
        }
      ]
    },
    {
      "cell_type": "code",
      "source": [
        "a.shape"
      ],
      "metadata": {
        "colab": {
          "base_uri": "https://localhost:8080/"
        },
        "id": "1viq47rT39q3",
        "outputId": "7b166fff-5748-4385-c32a-ba68a44d75e6"
      },
      "execution_count": null,
      "outputs": [
        {
          "output_type": "execute_result",
          "data": {
            "text/plain": [
              "(9,)"
            ]
          },
          "metadata": {},
          "execution_count": 33
        }
      ]
    },
    {
      "cell_type": "code",
      "source": [
        "a = a.reshape(3, 3)\n",
        "a"
      ],
      "metadata": {
        "colab": {
          "base_uri": "https://localhost:8080/"
        },
        "id": "tfnhOa4hA5A1",
        "outputId": "fbd8803f-d06f-40d1-e0f7-9abbdf720d85"
      },
      "execution_count": null,
      "outputs": [
        {
          "output_type": "execute_result",
          "data": {
            "text/plain": [
              "array([[11, 22, 33],\n",
              "       [44, 55, 66],\n",
              "       [77, 88, 99]])"
            ]
          },
          "metadata": {},
          "execution_count": 34
        }
      ]
    },
    {
      "cell_type": "code",
      "source": [
        "print(a.ndim)\n",
        "print(a.shape)\n",
        "print(a.size)"
      ],
      "metadata": {
        "colab": {
          "base_uri": "https://localhost:8080/"
        },
        "id": "GTttdPhEA-t_",
        "outputId": "7ba1d263-a2ff-4572-885c-92ad6b44e3c5"
      },
      "execution_count": null,
      "outputs": [
        {
          "output_type": "stream",
          "name": "stdout",
          "text": [
            "2\n",
            "(3, 3)\n",
            "9\n"
          ]
        }
      ]
    },
    {
      "cell_type": "code",
      "source": [
        "np.zeros((3, 3), dtype=np.float64)"
      ],
      "metadata": {
        "colab": {
          "base_uri": "https://localhost:8080/"
        },
        "id": "8mad__vjBKeY",
        "outputId": "5eb37090-0e5c-4a92-bf9c-a5f69c63f715"
      },
      "execution_count": null,
      "outputs": [
        {
          "output_type": "execute_result",
          "data": {
            "text/plain": [
              "array([[0., 0., 0.],\n",
              "       [0., 0., 0.],\n",
              "       [0., 0., 0.]])"
            ]
          },
          "metadata": {},
          "execution_count": 36
        }
      ]
    },
    {
      "cell_type": "code",
      "execution_count": null,
      "metadata": {
        "id": "RF--yf_IWBoB",
        "colab": {
          "base_uri": "https://localhost:8080/"
        },
        "outputId": "045fcbfe-b05d-487a-8b6a-cbec11fe6239"
      },
      "outputs": [
        {
          "output_type": "stream",
          "name": "stdout",
          "text": [
            "(3, 3)\n"
          ]
        },
        {
          "output_type": "execute_result",
          "data": {
            "text/plain": [
              "array([[0, 0, 0],\n",
              "       [0, 0, 0],\n",
              "       [0, 0, 0]])"
            ]
          },
          "metadata": {},
          "execution_count": 37
        }
      ],
      "source": [
        "c = np.zeros_like(a)\n",
        "print(c.shape)\n",
        "c"
      ]
    },
    {
      "cell_type": "code",
      "source": [
        "np.ones((3, 3))"
      ],
      "metadata": {
        "colab": {
          "base_uri": "https://localhost:8080/"
        },
        "id": "aLJUmcYHCZ6I",
        "outputId": "1bc8aef1-0d23-4a45-98eb-ece062c2e8af"
      },
      "execution_count": null,
      "outputs": [
        {
          "output_type": "execute_result",
          "data": {
            "text/plain": [
              "array([[1., 1., 1.],\n",
              "       [1., 1., 1.],\n",
              "       [1., 1., 1.]])"
            ]
          },
          "metadata": {},
          "execution_count": 38
        }
      ]
    },
    {
      "cell_type": "code",
      "source": [
        "np.ones((3,3), dtype=bool)"
      ],
      "metadata": {
        "colab": {
          "base_uri": "https://localhost:8080/"
        },
        "id": "HBm3_FDWZrr9",
        "outputId": "66a6d751-58c5-4ed0-a204-1af4603f6f07"
      },
      "execution_count": null,
      "outputs": [
        {
          "output_type": "execute_result",
          "data": {
            "text/plain": [
              "array([[ True,  True,  True],\n",
              "       [ True,  True,  True],\n",
              "       [ True,  True,  True]])"
            ]
          },
          "metadata": {},
          "execution_count": 61
        }
      ]
    },
    {
      "cell_type": "code",
      "source": [
        "np.eye(3,3)"
      ],
      "metadata": {
        "colab": {
          "base_uri": "https://localhost:8080/"
        },
        "id": "M4EAfub8x1hW",
        "outputId": "f4ab08fc-637e-4d57-9aa3-d83ed2a909a1"
      },
      "execution_count": null,
      "outputs": [
        {
          "output_type": "execute_result",
          "data": {
            "text/plain": [
              "array([[1., 0., 0.],\n",
              "       [0., 1., 0.],\n",
              "       [0., 0., 1.]])"
            ]
          },
          "metadata": {},
          "execution_count": 62
        }
      ]
    },
    {
      "cell_type": "code",
      "execution_count": null,
      "metadata": {
        "id": "zZtoeVjzWBoR",
        "colab": {
          "base_uri": "https://localhost:8080/"
        },
        "outputId": "0a9200f0-5d4c-45c7-b911-ff1c68a9f366"
      },
      "outputs": [
        {
          "output_type": "execute_result",
          "data": {
            "text/plain": [
              "array([[1, 0, 0, 0],\n",
              "       [0, 2, 0, 0],\n",
              "       [0, 0, 3, 0],\n",
              "       [0, 0, 0, 4]])"
            ]
          },
          "metadata": {},
          "execution_count": 64
        }
      ],
      "source": [
        "np.diag(np.array([1, 2, 3, 4]))"
      ]
    },
    {
      "cell_type": "code",
      "source": [
        "np.random.randn(10, 2)"
      ],
      "metadata": {
        "colab": {
          "base_uri": "https://localhost:8080/"
        },
        "id": "V89oP9_67f3P",
        "outputId": "f6eb82ee-76f2-4c95-a5bf-b07882fefb98"
      },
      "execution_count": null,
      "outputs": [
        {
          "output_type": "execute_result",
          "data": {
            "text/plain": [
              "array([[-0.06399853, -1.40191423],\n",
              "       [ 0.41178978, -0.6712465 ],\n",
              "       [-0.14446665,  0.2057586 ],\n",
              "       [ 1.23089899,  0.42145285],\n",
              "       [-0.47117869, -1.74080149],\n",
              "       [-1.12235652,  0.85818052],\n",
              "       [ 1.75236137, -0.68240871],\n",
              "       [-0.29402321,  0.18614691],\n",
              "       [-1.07340839,  0.11569536],\n",
              "       [ 0.33306352,  0.16162795]])"
            ]
          },
          "metadata": {},
          "execution_count": 104
        }
      ]
    },
    {
      "cell_type": "code",
      "source": [
        "np.random.randint(0, 15, size=(2, 3, 4))"
      ],
      "metadata": {
        "colab": {
          "base_uri": "https://localhost:8080/"
        },
        "id": "qbAMDJXk7WRC",
        "outputId": "661ebf4e-b276-4bb4-f7a6-088f8df71775"
      },
      "execution_count": null,
      "outputs": [
        {
          "output_type": "execute_result",
          "data": {
            "text/plain": [
              "array([[[ 8, 14, 14, 14],\n",
              "        [ 4,  2,  7,  6],\n",
              "        [ 7, 14,  2,  9]],\n",
              "\n",
              "       [[ 2,  5, 13,  4],\n",
              "        [ 4,  7,  0, 10],\n",
              "        [ 1, 11,  4,  4]]])"
            ]
          },
          "metadata": {},
          "execution_count": 101
        }
      ]
    },
    {
      "cell_type": "markdown",
      "metadata": {
        "id": "mdTTvLKNnWTK"
      },
      "source": [
        "#### Генерация массивов"
      ]
    },
    {
      "cell_type": "code",
      "source": [
        "np.arange(10)    #  От 0 до указанного числа не включительно"
      ],
      "metadata": {
        "colab": {
          "base_uri": "https://localhost:8080/"
        },
        "id": "C7oxrVoSCdCc",
        "outputId": "9c232a60-a649-4063-aa94-cafdb32e3307"
      },
      "execution_count": null,
      "outputs": [
        {
          "output_type": "execute_result",
          "data": {
            "text/plain": [
              "array([0, 1, 2, 3, 4, 5, 6, 7, 8, 9])"
            ]
          },
          "metadata": {},
          "execution_count": 143
        }
      ]
    },
    {
      "cell_type": "code",
      "source": [
        "np.arange(10, 20)    #  Диапазон"
      ],
      "metadata": {
        "colab": {
          "base_uri": "https://localhost:8080/"
        },
        "id": "feHUF235CfAZ",
        "outputId": "bc43a551-9e78-4749-f667-f7f3feb5b45c"
      },
      "execution_count": null,
      "outputs": [
        {
          "output_type": "execute_result",
          "data": {
            "text/plain": [
              "array([10, 11, 12, 13, 14, 15, 16, 17, 18, 19])"
            ]
          },
          "metadata": {},
          "execution_count": 144
        }
      ]
    },
    {
      "cell_type": "code",
      "source": [
        "np.arange(20, 100, 10)    #  Диапазон с заданным шагом"
      ],
      "metadata": {
        "colab": {
          "base_uri": "https://localhost:8080/"
        },
        "id": "MWoZkfa-CgNl",
        "outputId": "19b5b66c-5c9a-4314-a5e1-421f1d4fba7a"
      },
      "execution_count": null,
      "outputs": [
        {
          "output_type": "execute_result",
          "data": {
            "text/plain": [
              "array([20, 30, 40, 50, 60, 70, 80, 90])"
            ]
          },
          "metadata": {},
          "execution_count": 145
        }
      ]
    },
    {
      "cell_type": "code",
      "source": [
        "np.arange(0, 1, 0.1)    #  Аргументы могут иметь тип float"
      ],
      "metadata": {
        "colab": {
          "base_uri": "https://localhost:8080/"
        },
        "id": "4IY-doQMCiLW",
        "outputId": "eb8fd813-ef67-4a3c-c861-b002de77a299"
      },
      "execution_count": null,
      "outputs": [
        {
          "output_type": "execute_result",
          "data": {
            "text/plain": [
              "array([0. , 0.1, 0.2, 0.3, 0.4, 0.5, 0.6, 0.7, 0.8, 0.9])"
            ]
          },
          "metadata": {},
          "execution_count": 115
        }
      ]
    },
    {
      "cell_type": "code",
      "source": [
        "np.linspace(0, 1, 11)    # Указать кол-во элементов"
      ],
      "metadata": {
        "colab": {
          "base_uri": "https://localhost:8080/"
        },
        "id": "Hag8w4bqCksi",
        "outputId": "cc8872fa-c670-42be-d12f-46067c978907"
      },
      "execution_count": null,
      "outputs": [
        {
          "output_type": "execute_result",
          "data": {
            "text/plain": [
              "array([0. , 0.1, 0.2, 0.3, 0.4, 0.5, 0.6, 0.7, 0.8, 0.9, 1. ])"
            ]
          },
          "metadata": {},
          "execution_count": 10
        }
      ]
    },
    {
      "cell_type": "markdown",
      "source": [
        "#### Индексация (https://numpy.org/doc/stable/user/basics.indexing.html)"
      ],
      "metadata": {
        "id": "eJlBEmSUtopV"
      }
    },
    {
      "cell_type": "code",
      "source": [
        "a = np.array([11, 22, 33, 44, 55, 66, 77, 88, 99])\n",
        "lst = a.tolist()\n",
        "lst"
      ],
      "metadata": {
        "colab": {
          "base_uri": "https://localhost:8080/"
        },
        "id": "5DfLOx-NNaAe",
        "outputId": "83f3e9ae-933a-403f-a1ba-0f6c58517960"
      },
      "execution_count": 6,
      "outputs": [
        {
          "output_type": "execute_result",
          "data": {
            "text/plain": [
              "[11, 22, 33, 44, 55, 66, 77, 88, 99]"
            ]
          },
          "metadata": {},
          "execution_count": 6
        }
      ]
    },
    {
      "cell_type": "code",
      "source": [
        "print(a[2])\n",
        "print(lst[2])"
      ],
      "metadata": {
        "colab": {
          "base_uri": "https://localhost:8080/"
        },
        "id": "KI26x8jZAZr6",
        "outputId": "c43f6ff0-a6a2-46d4-e3b1-194349e0b186"
      },
      "execution_count": 7,
      "outputs": [
        {
          "output_type": "stream",
          "name": "stdout",
          "text": [
            "33\n",
            "33\n"
          ]
        }
      ]
    },
    {
      "cell_type": "code",
      "source": [
        "print(a[-2])\n",
        "print(lst[-2])"
      ],
      "metadata": {
        "colab": {
          "base_uri": "https://localhost:8080/"
        },
        "id": "P9Mh_UDy97G8",
        "outputId": "d95ffa2c-81c1-46f8-8fd3-205843231cfc"
      },
      "execution_count": 8,
      "outputs": [
        {
          "output_type": "stream",
          "name": "stdout",
          "text": [
            "88\n",
            "88\n"
          ]
        }
      ]
    },
    {
      "cell_type": "code",
      "source": [
        "print(a[0:4])\n",
        "print(lst[0:4])"
      ],
      "metadata": {
        "colab": {
          "base_uri": "https://localhost:8080/"
        },
        "id": "xl66eXNkH0m2",
        "outputId": "441d3ea0-4839-48a5-de73-17c9ade9bbe0"
      },
      "execution_count": 13,
      "outputs": [
        {
          "output_type": "stream",
          "name": "stdout",
          "text": [
            "[11 22 33 44]\n",
            "[11, 22, 33, 44]\n"
          ]
        }
      ]
    },
    {
      "cell_type": "code",
      "source": [
        "print(a[0:4:2])\n",
        "print(lst[0:4:2])"
      ],
      "metadata": {
        "colab": {
          "base_uri": "https://localhost:8080/"
        },
        "id": "vIL4nNp7H45K",
        "outputId": "384f8c91-7e79-4aa4-fca0-1d1a0f245404"
      },
      "execution_count": 14,
      "outputs": [
        {
          "output_type": "stream",
          "name": "stdout",
          "text": [
            "[11 33]\n",
            "[11, 33]\n"
          ]
        }
      ]
    },
    {
      "cell_type": "code",
      "source": [
        "lst > 50"
      ],
      "metadata": {
        "colab": {
          "base_uri": "https://localhost:8080/",
          "height": 150
        },
        "id": "-_Snrz6pUaPu",
        "outputId": "a3a5d019-4820-4d65-ffd8-5b165ad1ecf2"
      },
      "execution_count": 15,
      "outputs": [
        {
          "output_type": "error",
          "ename": "TypeError",
          "evalue": "'>' not supported between instances of 'list' and 'int'",
          "traceback": [
            "\u001b[0;31m---------------------------------------------------------------------------\u001b[0m",
            "\u001b[0;31mTypeError\u001b[0m                                 Traceback (most recent call last)",
            "\u001b[0;32m<ipython-input-15-70ce9d7bf65a>\u001b[0m in \u001b[0;36m<cell line: 1>\u001b[0;34m()\u001b[0m\n\u001b[0;32m----> 1\u001b[0;31m \u001b[0mlst\u001b[0m \u001b[0;34m>\u001b[0m \u001b[0;36m50\u001b[0m\u001b[0;34m\u001b[0m\u001b[0;34m\u001b[0m\u001b[0m\n\u001b[0m",
            "\u001b[0;31mTypeError\u001b[0m: '>' not supported between instances of 'list' and 'int'"
          ]
        }
      ]
    },
    {
      "cell_type": "code",
      "source": [
        "a > 50"
      ],
      "metadata": {
        "colab": {
          "base_uri": "https://localhost:8080/"
        },
        "id": "3hdJoMULAi7g",
        "outputId": "12cd6d50-a133-46bd-d669-391cd168e9b1"
      },
      "execution_count": 16,
      "outputs": [
        {
          "output_type": "execute_result",
          "data": {
            "text/plain": [
              "array([False, False, False, False,  True,  True,  True,  True,  True])"
            ]
          },
          "metadata": {},
          "execution_count": 16
        }
      ]
    },
    {
      "cell_type": "code",
      "source": [
        "a[a > 50] # фильтрация по условию (в реальности по маске)"
      ],
      "metadata": {
        "colab": {
          "base_uri": "https://localhost:8080/"
        },
        "id": "hrUER4quAgCf",
        "outputId": "01fa04b3-62ab-44df-e3a5-9ae711eb3d3c"
      },
      "execution_count": 17,
      "outputs": [
        {
          "output_type": "execute_result",
          "data": {
            "text/plain": [
              "array([55, 66, 77, 88, 99])"
            ]
          },
          "metadata": {},
          "execution_count": 17
        }
      ]
    },
    {
      "cell_type": "markdown",
      "source": [
        "На заметку: [Битовые операции в python](https://docs.python.org/3/library/stdtypes.html#bitwise-operations-on-integer-types)"
      ],
      "metadata": {
        "id": "m1pWbah3PK7r"
      }
    },
    {
      "cell_type": "code",
      "source": [
        "print((a > 50) & (a < 70))\n",
        "print((a > 50) and (a < 70)) # Не сработает! Потому что между `np.array` не определена операция `and`"
      ],
      "metadata": {
        "colab": {
          "base_uri": "https://localhost:8080/",
          "height": 188
        },
        "id": "tym0nKDePb5k",
        "outputId": "811bf559-4f88-4e06-ef8a-599867113625"
      },
      "execution_count": 18,
      "outputs": [
        {
          "output_type": "stream",
          "name": "stdout",
          "text": [
            "[False False False False  True  True False False False]\n"
          ]
        },
        {
          "output_type": "error",
          "ename": "ValueError",
          "evalue": "The truth value of an array with more than one element is ambiguous. Use a.any() or a.all()",
          "traceback": [
            "\u001b[0;31m---------------------------------------------------------------------------\u001b[0m",
            "\u001b[0;31mValueError\u001b[0m                                Traceback (most recent call last)",
            "\u001b[0;32m<ipython-input-18-cb465f55931d>\u001b[0m in \u001b[0;36m<cell line: 2>\u001b[0;34m()\u001b[0m\n\u001b[1;32m      1\u001b[0m \u001b[0mprint\u001b[0m\u001b[0;34m(\u001b[0m\u001b[0;34m(\u001b[0m\u001b[0ma\u001b[0m \u001b[0;34m>\u001b[0m \u001b[0;36m50\u001b[0m\u001b[0;34m)\u001b[0m \u001b[0;34m&\u001b[0m \u001b[0;34m(\u001b[0m\u001b[0ma\u001b[0m \u001b[0;34m<\u001b[0m \u001b[0;36m70\u001b[0m\u001b[0;34m)\u001b[0m\u001b[0;34m)\u001b[0m\u001b[0;34m\u001b[0m\u001b[0;34m\u001b[0m\u001b[0m\n\u001b[0;32m----> 2\u001b[0;31m \u001b[0mprint\u001b[0m\u001b[0;34m(\u001b[0m\u001b[0;34m(\u001b[0m\u001b[0ma\u001b[0m \u001b[0;34m>\u001b[0m \u001b[0;36m50\u001b[0m\u001b[0;34m)\u001b[0m \u001b[0;32mand\u001b[0m \u001b[0;34m(\u001b[0m\u001b[0ma\u001b[0m \u001b[0;34m<\u001b[0m \u001b[0;36m70\u001b[0m\u001b[0;34m)\u001b[0m\u001b[0;34m)\u001b[0m \u001b[0;31m# Не сработает! Потому что между `np.array` не определена операция `and`\u001b[0m\u001b[0;34m\u001b[0m\u001b[0;34m\u001b[0m\u001b[0m\n\u001b[0m",
            "\u001b[0;31mValueError\u001b[0m: The truth value of an array with more than one element is ambiguous. Use a.any() or a.all()"
          ]
        }
      ]
    },
    {
      "cell_type": "code",
      "source": [
        "a[(a > 50) & (a < 70)]"
      ],
      "metadata": {
        "colab": {
          "base_uri": "https://localhost:8080/"
        },
        "id": "mvl-yBE7IKiX",
        "outputId": "c79ab3a8-e164-42ab-c269-be4b44ca8937"
      },
      "execution_count": 19,
      "outputs": [
        {
          "output_type": "execute_result",
          "data": {
            "text/plain": [
              "array([55, 66])"
            ]
          },
          "metadata": {},
          "execution_count": 19
        }
      ]
    },
    {
      "cell_type": "code",
      "source": [
        "a = np.arange(12)\n",
        "a"
      ],
      "metadata": {
        "colab": {
          "base_uri": "https://localhost:8080/"
        },
        "id": "4rnB2WVfAlGq",
        "outputId": "2045dec0-3c5e-48fd-82c0-f559e348bd16"
      },
      "execution_count": 20,
      "outputs": [
        {
          "output_type": "execute_result",
          "data": {
            "text/plain": [
              "array([ 0,  1,  2,  3,  4,  5,  6,  7,  8,  9, 10, 11])"
            ]
          },
          "metadata": {},
          "execution_count": 20
        }
      ]
    },
    {
      "cell_type": "code",
      "source": [
        "a = a.reshape(3, 4)\n",
        "a"
      ],
      "metadata": {
        "colab": {
          "base_uri": "https://localhost:8080/"
        },
        "id": "f0-3CflcAog7",
        "outputId": "60a5642b-83ac-43ec-ddbe-10694dd028fb"
      },
      "execution_count": 21,
      "outputs": [
        {
          "output_type": "execute_result",
          "data": {
            "text/plain": [
              "array([[ 0,  1,  2,  3],\n",
              "       [ 4,  5,  6,  7],\n",
              "       [ 8,  9, 10, 11]])"
            ]
          },
          "metadata": {},
          "execution_count": 21
        }
      ]
    },
    {
      "cell_type": "code",
      "source": [
        "a.reshape(4, 2) # Error!"
      ],
      "metadata": {
        "colab": {
          "base_uri": "https://localhost:8080/",
          "height": 141
        },
        "id": "aOIPJwPrTzFV",
        "outputId": "e4a07cd0-3aa7-48e8-a664-d67813ff79dc"
      },
      "execution_count": null,
      "outputs": [
        {
          "output_type": "error",
          "ename": "ValueError",
          "evalue": "cannot reshape array of size 12 into shape (4,2)",
          "traceback": [
            "\u001b[0;31m---------------------------------------------------------------------------\u001b[0m",
            "\u001b[0;31mValueError\u001b[0m                                Traceback (most recent call last)",
            "\u001b[0;32m<ipython-input-152-7c96bcc61aee>\u001b[0m in \u001b[0;36m<cell line: 1>\u001b[0;34m()\u001b[0m\n\u001b[0;32m----> 1\u001b[0;31m \u001b[0ma\u001b[0m\u001b[0;34m.\u001b[0m\u001b[0mreshape\u001b[0m\u001b[0;34m(\u001b[0m\u001b[0;36m4\u001b[0m\u001b[0;34m,\u001b[0m \u001b[0;36m2\u001b[0m\u001b[0;34m)\u001b[0m \u001b[0;31m# Error!\u001b[0m\u001b[0;34m\u001b[0m\u001b[0;34m\u001b[0m\u001b[0m\n\u001b[0m",
            "\u001b[0;31mValueError\u001b[0m: cannot reshape array of size 12 into shape (4,2)"
          ]
        }
      ]
    },
    {
      "cell_type": "code",
      "source": [
        "a = a.reshape(4, -1)\n",
        "print(a.shape)\n",
        "a"
      ],
      "metadata": {
        "colab": {
          "base_uri": "https://localhost:8080/"
        },
        "id": "l3daIqUTLwKS",
        "outputId": "2bc1a7c3-646f-4c55-a5d5-bfabb40ff890"
      },
      "execution_count": 22,
      "outputs": [
        {
          "output_type": "stream",
          "name": "stdout",
          "text": [
            "(4, 3)\n"
          ]
        },
        {
          "output_type": "execute_result",
          "data": {
            "text/plain": [
              "array([[ 0,  1,  2],\n",
              "       [ 3,  4,  5],\n",
              "       [ 6,  7,  8],\n",
              "       [ 9, 10, 11]])"
            ]
          },
          "metadata": {},
          "execution_count": 22
        }
      ]
    },
    {
      "cell_type": "code",
      "source": [
        "print(a[0][2])\n",
        "print(a[0, 2]) # то же самое, но работает быстрее, т.к. не создается промежуточный массив"
      ],
      "metadata": {
        "colab": {
          "base_uri": "https://localhost:8080/"
        },
        "id": "wGDDz3jqApfi",
        "outputId": "bdee3a28-a7e4-4c3c-fa70-456ec8d6df3b"
      },
      "execution_count": 23,
      "outputs": [
        {
          "output_type": "stream",
          "name": "stdout",
          "text": [
            "2\n",
            "2\n"
          ]
        }
      ]
    },
    {
      "cell_type": "code",
      "source": [
        "print(a[:2][1])\n",
        "print(a[:2, 1])"
      ],
      "metadata": {
        "colab": {
          "base_uri": "https://localhost:8080/"
        },
        "id": "-gJRvgdI-5c-",
        "outputId": "7cc551b6-9911-481e-8698-df9dd05f908d"
      },
      "execution_count": 25,
      "outputs": [
        {
          "output_type": "stream",
          "name": "stdout",
          "text": [
            "[3 4 5]\n",
            "[1 4]\n"
          ]
        }
      ]
    },
    {
      "cell_type": "code",
      "source": [
        "print(a)\n",
        "print(\"=\" * 20)\n",
        "print(a[[0, 2]]) # список задает индексы первой размерности, по которым нужно взять объекты\n",
        "print()\n",
        "print(a[(0, 2)]) # кортеж превращается в dimensional index matching\n",
        "print()\n",
        "print(a[:3, 2])\n",
        "print(a[(slice(0, 3), 2)])"
      ],
      "metadata": {
        "colab": {
          "base_uri": "https://localhost:8080/"
        },
        "id": "XFQFMvvn_jS1",
        "outputId": "08b8517c-9ee9-4a53-d66c-37356437d5b7"
      },
      "execution_count": 26,
      "outputs": [
        {
          "output_type": "stream",
          "name": "stdout",
          "text": [
            "[[ 0  1  2]\n",
            " [ 3  4  5]\n",
            " [ 6  7  8]\n",
            " [ 9 10 11]]\n",
            "====================\n",
            "[[0 1 2]\n",
            " [6 7 8]]\n",
            "\n",
            "2\n",
            "\n",
            "[2 5 8]\n",
            "[2 5 8]\n"
          ]
        }
      ]
    },
    {
      "cell_type": "code",
      "source": [
        "print(a.shape)"
      ],
      "metadata": {
        "colab": {
          "base_uri": "https://localhost:8080/"
        },
        "id": "d1a8m6KE7pLJ",
        "outputId": "5ee001ab-e175-4e68-b572-0c8878c9fa18"
      },
      "execution_count": 27,
      "outputs": [
        {
          "output_type": "stream",
          "name": "stdout",
          "text": [
            "(4, 3)\n"
          ]
        }
      ]
    },
    {
      "cell_type": "code",
      "source": [
        "a"
      ],
      "metadata": {
        "colab": {
          "base_uri": "https://localhost:8080/"
        },
        "id": "rXhDQYv7-pZM",
        "outputId": "71325f81-4ec7-43d0-fa4e-3b07552a73d5"
      },
      "execution_count": 28,
      "outputs": [
        {
          "output_type": "execute_result",
          "data": {
            "text/plain": [
              "array([[ 0,  1,  2],\n",
              "       [ 3,  4,  5],\n",
              "       [ 6,  7,  8],\n",
              "       [ 9, 10, 11]])"
            ]
          },
          "metadata": {},
          "execution_count": 28
        }
      ]
    },
    {
      "cell_type": "code",
      "source": [
        "a[..., None].shape"
      ],
      "metadata": {
        "colab": {
          "base_uri": "https://localhost:8080/"
        },
        "id": "m8VomqXr8DR5",
        "outputId": "ee8de9cf-899b-43dc-d6b3-75190f2014b1"
      },
      "execution_count": 29,
      "outputs": [
        {
          "output_type": "execute_result",
          "data": {
            "text/plain": [
              "(4, 3, 1)"
            ]
          },
          "metadata": {},
          "execution_count": 29
        }
      ]
    },
    {
      "cell_type": "code",
      "source": [
        "a[None, :, :]"
      ],
      "metadata": {
        "colab": {
          "base_uri": "https://localhost:8080/"
        },
        "id": "Y0de9NcR-xuN",
        "outputId": "96881d78-e018-41a3-8a11-646910ea58d4"
      },
      "execution_count": 30,
      "outputs": [
        {
          "output_type": "execute_result",
          "data": {
            "text/plain": [
              "array([[[ 0,  1,  2],\n",
              "        [ 3,  4,  5],\n",
              "        [ 6,  7,  8],\n",
              "        [ 9, 10, 11]]])"
            ]
          },
          "metadata": {},
          "execution_count": 30
        }
      ]
    },
    {
      "cell_type": "code",
      "source": [
        "print(a.shape)\n",
        "a_unsqueezed = a[None, :]\n",
        "print(a_unsqueezed)\n",
        "print(a_unsqueezed.shape)\n",
        "print(a[:, np.newaxis, :].shape)\n",
        "print(np.newaxis is None)"
      ],
      "metadata": {
        "colab": {
          "base_uri": "https://localhost:8080/"
        },
        "id": "GrN4XYRJz8H9",
        "outputId": "5ca75e18-035f-48df-8197-1b85c1b25321"
      },
      "execution_count": 31,
      "outputs": [
        {
          "output_type": "stream",
          "name": "stdout",
          "text": [
            "(4, 3)\n",
            "[[[ 0  1  2]\n",
            "  [ 3  4  5]\n",
            "  [ 6  7  8]\n",
            "  [ 9 10 11]]]\n",
            "(1, 4, 3)\n",
            "(4, 1, 3)\n",
            "True\n"
          ]
        }
      ]
    },
    {
      "cell_type": "code",
      "source": [
        "print(a[None, :, None, :].shape)\n",
        "print(a[None, :, None, :].squeeze().shape)"
      ],
      "metadata": {
        "colab": {
          "base_uri": "https://localhost:8080/"
        },
        "id": "sgMi8CIZ0l5X",
        "outputId": "2db65d8b-738d-4bff-ff9d-731335eb9b85"
      },
      "execution_count": 32,
      "outputs": [
        {
          "output_type": "stream",
          "name": "stdout",
          "text": [
            "(1, 4, 1, 3)\n",
            "(4, 3)\n"
          ]
        }
      ]
    },
    {
      "cell_type": "markdown",
      "source": [
        "#### Работа с размерностями"
      ],
      "metadata": {
        "id": "LHal9bFS4WKp"
      }
    },
    {
      "cell_type": "code",
      "source": [
        "a = np.arange(10).reshape(2, 5)\n",
        "print(a.shape)\n",
        "a"
      ],
      "metadata": {
        "colab": {
          "base_uri": "https://localhost:8080/"
        },
        "id": "-T0iOMu24Yv9",
        "outputId": "c486366f-e2f5-4aa6-c955-2ab808b338bb"
      },
      "execution_count": 33,
      "outputs": [
        {
          "output_type": "stream",
          "name": "stdout",
          "text": [
            "(2, 5)\n"
          ]
        },
        {
          "output_type": "execute_result",
          "data": {
            "text/plain": [
              "array([[0, 1, 2, 3, 4],\n",
              "       [5, 6, 7, 8, 9]])"
            ]
          },
          "metadata": {},
          "execution_count": 33
        }
      ]
    },
    {
      "cell_type": "code",
      "source": [
        "print(a.T.shape)\n",
        "a.T"
      ],
      "metadata": {
        "colab": {
          "base_uri": "https://localhost:8080/"
        },
        "id": "Rf4szCjp4efa",
        "outputId": "80504693-21b1-4212-edec-da00aafdbbce"
      },
      "execution_count": 34,
      "outputs": [
        {
          "output_type": "stream",
          "name": "stdout",
          "text": [
            "(5, 2)\n"
          ]
        },
        {
          "output_type": "execute_result",
          "data": {
            "text/plain": [
              "array([[0, 5],\n",
              "       [1, 6],\n",
              "       [2, 7],\n",
              "       [3, 8],\n",
              "       [4, 9]])"
            ]
          },
          "metadata": {},
          "execution_count": 34
        }
      ]
    },
    {
      "cell_type": "code",
      "source": [
        "a = np.arange(24).reshape(2, 3, 4)\n",
        "a"
      ],
      "metadata": {
        "colab": {
          "base_uri": "https://localhost:8080/"
        },
        "id": "3WjHkhXo4hKJ",
        "outputId": "a862b3b6-dc96-4630-f3a6-5e23e559e7bb"
      },
      "execution_count": 35,
      "outputs": [
        {
          "output_type": "execute_result",
          "data": {
            "text/plain": [
              "array([[[ 0,  1,  2,  3],\n",
              "        [ 4,  5,  6,  7],\n",
              "        [ 8,  9, 10, 11]],\n",
              "\n",
              "       [[12, 13, 14, 15],\n",
              "        [16, 17, 18, 19],\n",
              "        [20, 21, 22, 23]]])"
            ]
          },
          "metadata": {},
          "execution_count": 35
        }
      ]
    },
    {
      "cell_type": "code",
      "source": [
        "np.swapaxes(a, 1, 2)"
      ],
      "metadata": {
        "colab": {
          "base_uri": "https://localhost:8080/"
        },
        "id": "tabC8EXd56Cg",
        "outputId": "dc88a863-96d4-4925-d531-10a56315eb1b"
      },
      "execution_count": 36,
      "outputs": [
        {
          "output_type": "execute_result",
          "data": {
            "text/plain": [
              "array([[[ 0,  4,  8],\n",
              "        [ 1,  5,  9],\n",
              "        [ 2,  6, 10],\n",
              "        [ 3,  7, 11]],\n",
              "\n",
              "       [[12, 16, 20],\n",
              "        [13, 17, 21],\n",
              "        [14, 18, 22],\n",
              "        [15, 19, 23]]])"
            ]
          },
          "metadata": {},
          "execution_count": 36
        }
      ]
    },
    {
      "cell_type": "code",
      "source": [
        "np.transpose(a, (2, 0, 1))"
      ],
      "metadata": {
        "colab": {
          "base_uri": "https://localhost:8080/"
        },
        "id": "wyOLEtXJ4_3C",
        "outputId": "f737330c-0a5b-4386-a822-b21ecb6dd8eb"
      },
      "execution_count": 37,
      "outputs": [
        {
          "output_type": "execute_result",
          "data": {
            "text/plain": [
              "array([[[ 0,  4,  8],\n",
              "        [12, 16, 20]],\n",
              "\n",
              "       [[ 1,  5,  9],\n",
              "        [13, 17, 21]],\n",
              "\n",
              "       [[ 2,  6, 10],\n",
              "        [14, 18, 22]],\n",
              "\n",
              "       [[ 3,  7, 11],\n",
              "        [15, 19, 23]]])"
            ]
          },
          "metadata": {},
          "execution_count": 37
        }
      ]
    },
    {
      "cell_type": "markdown",
      "source": [
        "#### Популярные операции"
      ],
      "metadata": {
        "id": "IyYCUgPmtvsW"
      }
    },
    {
      "cell_type": "code",
      "source": [
        "x = np.arange(10).reshape(2, 5)\n",
        "x"
      ],
      "metadata": {
        "colab": {
          "base_uri": "https://localhost:8080/"
        },
        "id": "NB0z_lylukm1",
        "outputId": "ffadf187-4085-4391-989f-413ae13b5feb"
      },
      "execution_count": 40,
      "outputs": [
        {
          "output_type": "execute_result",
          "data": {
            "text/plain": [
              "array([[0, 1, 2, 3, 4],\n",
              "       [5, 6, 7, 8, 9]])"
            ]
          },
          "metadata": {},
          "execution_count": 40
        }
      ]
    },
    {
      "cell_type": "code",
      "source": [
        "# Арифметические операции - поэлементные\n",
        "print(x + 5)\n",
        "print(x * 5)\n",
        "print(x / 5)\n",
        "print(x ** 5)\n",
        "print(x == 5)\n",
        "print(np.cos(x))"
      ],
      "metadata": {
        "colab": {
          "base_uri": "https://localhost:8080/"
        },
        "id": "Jwcee-Ytu_b8",
        "outputId": "a44aae58-2272-4a53-afbb-2c874d636ce3"
      },
      "execution_count": 41,
      "outputs": [
        {
          "output_type": "stream",
          "name": "stdout",
          "text": [
            "[[ 5  6  7  8  9]\n",
            " [10 11 12 13 14]]\n",
            "[[ 0  5 10 15 20]\n",
            " [25 30 35 40 45]]\n",
            "[[0.  0.2 0.4 0.6 0.8]\n",
            " [1.  1.2 1.4 1.6 1.8]]\n",
            "[[    0     1    32   243  1024]\n",
            " [ 3125  7776 16807 32768 59049]]\n",
            "[[False False False False False]\n",
            " [ True False False False False]]\n",
            "[[ 1.          0.54030231 -0.41614684 -0.9899925  -0.65364362]\n",
            " [ 0.28366219  0.96017029  0.75390225 -0.14550003 -0.91113026]]\n"
          ]
        }
      ]
    },
    {
      "cell_type": "code",
      "execution_count": 42,
      "metadata": {
        "id": "18CqeO_pWBoS",
        "colab": {
          "base_uri": "https://localhost:8080/"
        },
        "outputId": "199f90a4-2d0b-470a-a089-6d16b0f0a237"
      },
      "outputs": [
        {
          "output_type": "stream",
          "name": "stdout",
          "text": [
            "[[5. 5. 5. 5. 5.]\n",
            " [5. 5. 5. 5. 5.]\n",
            " [5. 5. 5. 5. 5.]\n",
            " [5. 5. 5. 5. 5.]\n",
            " [5. 5. 5. 5. 5.]] \n",
            "\n",
            "[[2. 1. 1. 1. 1.]\n",
            " [1. 2. 1. 1. 1.]\n",
            " [1. 1. 2. 1. 1.]\n",
            " [1. 1. 1. 2. 1.]\n",
            " [1. 1. 1. 1. 2.]]\n"
          ]
        }
      ],
      "source": [
        "a = 5 * np.ones((5, 5))\n",
        "b = np.eye(5) + 1\n",
        "print(a, '\\n')\n",
        "print(b)"
      ]
    },
    {
      "cell_type": "code",
      "execution_count": 43,
      "metadata": {
        "id": "DS9z4kOzWBoS",
        "colab": {
          "base_uri": "https://localhost:8080/"
        },
        "outputId": "3c59ccd2-d8f1-4892-9403-052c17611730"
      },
      "outputs": [
        {
          "output_type": "stream",
          "name": "stdout",
          "text": [
            "[[10.  5.  5.  5.  5.]\n",
            " [ 5. 10.  5.  5.  5.]\n",
            " [ 5.  5. 10.  5.  5.]\n",
            " [ 5.  5.  5. 10.  5.]\n",
            " [ 5.  5.  5.  5. 10.]] \n",
            "\n",
            "[[30. 30. 30. 30. 30.]\n",
            " [30. 30. 30. 30. 30.]\n",
            " [30. 30. 30. 30. 30.]\n",
            " [30. 30. 30. 30. 30.]\n",
            " [30. 30. 30. 30. 30.]] \n",
            "\n",
            "[[30. 30. 30. 30. 30.]\n",
            " [30. 30. 30. 30. 30.]\n",
            " [30. 30. 30. 30. 30.]\n",
            " [30. 30. 30. 30. 30.]\n",
            " [30. 30. 30. 30. 30.]]\n"
          ]
        }
      ],
      "source": [
        "print(a * b, '\\n') # поэлементное умножение\n",
        "print(a @ b, '\\n') # матричное умножение\n",
        "print(a.dot(b)) # эта операция может применяться только для np.ndarray, а операция выше нет"
      ]
    },
    {
      "cell_type": "code",
      "source": [
        "x = np.arange(4).reshape(2,2)\n",
        "w = np.arange(8).reshape(2,4)\n",
        "print(x)\n",
        "print(w)"
      ],
      "metadata": {
        "colab": {
          "base_uri": "https://localhost:8080/"
        },
        "id": "ndvqMFmq1NZG",
        "outputId": "f4f4dde7-301d-4433-ec82-a30e4b052189"
      },
      "execution_count": null,
      "outputs": [
        {
          "output_type": "stream",
          "name": "stdout",
          "text": [
            "[[0 1]\n",
            " [2 3]]\n",
            "[[0 1 2 3]\n",
            " [4 5 6 7]]\n"
          ]
        }
      ]
    },
    {
      "cell_type": "code",
      "source": [
        "x @ w"
      ],
      "metadata": {
        "colab": {
          "base_uri": "https://localhost:8080/"
        },
        "id": "lg9E75os1bxF",
        "outputId": "af021fcd-b896-41c4-d47e-d69da42d6a36"
      },
      "execution_count": null,
      "outputs": [
        {
          "output_type": "execute_result",
          "data": {
            "text/plain": [
              "array([[ 4,  5,  6,  7],\n",
              "       [12, 17, 22, 27]])"
            ]
          },
          "metadata": {},
          "execution_count": 3
        }
      ]
    },
    {
      "cell_type": "code",
      "source": [
        "np.random.seed(1)"
      ],
      "metadata": {
        "id": "3yiamiPSv6fb"
      },
      "execution_count": null,
      "outputs": []
    },
    {
      "cell_type": "code",
      "source": [
        "a = np.random.randint(0, 15, size=(4, 6, 3))\n",
        "a"
      ],
      "metadata": {
        "colab": {
          "base_uri": "https://localhost:8080/"
        },
        "id": "_JoFtDRIUKdd",
        "outputId": "0732a67a-7c19-4bf5-b395-346229a0650f"
      },
      "execution_count": null,
      "outputs": [
        {
          "output_type": "execute_result",
          "data": {
            "text/plain": [
              "array([[[ 5, 11, 12],\n",
              "        [ 8,  9, 11],\n",
              "        [ 5,  0,  0],\n",
              "        [ 1, 12,  7],\n",
              "        [13, 12,  6],\n",
              "        [ 9,  2,  4]],\n",
              "\n",
              "       [[14,  5,  2],\n",
              "        [ 4, 11, 12],\n",
              "        [10, 12, 13],\n",
              "        [14,  2,  4],\n",
              "        [ 7,  7,  9],\n",
              "        [ 1,  7, 14]],\n",
              "\n",
              "       [[ 0,  6, 13],\n",
              "        [ 9,  9,  7],\n",
              "        [13,  6,  9],\n",
              "        [ 1,  0, 12],\n",
              "        [ 1,  8,  8],\n",
              "        [13,  3, 10]],\n",
              "\n",
              "       [[ 9,  8, 14],\n",
              "        [ 7,  3,  6],\n",
              "        [ 5,  1,  9],\n",
              "        [ 3,  4,  8],\n",
              "        [ 1, 11, 12],\n",
              "        [10,  4,  0]]])"
            ]
          },
          "metadata": {},
          "execution_count": 112
        }
      ]
    },
    {
      "cell_type": "code",
      "source": [
        "res = a.min(axis=0) # a.shape == (4, 6, 3) -> res.shape == (6, 3)\n",
        "print(res)\n",
        "# res[i][j] == min(a[0][i][j], a[1][i][j], a[2][i][j], a[3][i][j])\n",
        "print(res[0][1])\n",
        "print(a[:4, 0, 1])"
      ],
      "metadata": {
        "colab": {
          "base_uri": "https://localhost:8080/"
        },
        "id": "LRiMfSSGT0S-",
        "outputId": "3027a884-31e3-4508-c8d7-ac0fad2718d5"
      },
      "execution_count": null,
      "outputs": [
        {
          "output_type": "stream",
          "name": "stdout",
          "text": [
            "[[0 5 2]\n",
            " [4 3 6]\n",
            " [5 0 0]\n",
            " [1 0 4]\n",
            " [1 7 6]\n",
            " [1 2 0]]\n",
            "5\n",
            "[11  5  6  8]\n"
          ]
        }
      ]
    },
    {
      "cell_type": "code",
      "source": [
        "a.min(axis=1)"
      ],
      "metadata": {
        "colab": {
          "base_uri": "https://localhost:8080/"
        },
        "id": "QxLZVqpBTVyZ",
        "outputId": "8b11ae64-9ff7-4135-8a50-97d254dfc025"
      },
      "execution_count": null,
      "outputs": [
        {
          "output_type": "execute_result",
          "data": {
            "text/plain": [
              "array([[1, 0, 0],\n",
              "       [1, 2, 2],\n",
              "       [0, 0, 7],\n",
              "       [1, 1, 0]])"
            ]
          },
          "metadata": {},
          "execution_count": 71
        }
      ]
    },
    {
      "cell_type": "code",
      "source": [
        "print(a.min())\n",
        "print(a.max())\n",
        "print(a.sum())\n",
        "print(a.mean())"
      ],
      "metadata": {
        "colab": {
          "base_uri": "https://localhost:8080/"
        },
        "id": "Z0ogExFHAzb8",
        "outputId": "fe1f1dcd-2318-4695-f41b-e25931780561"
      },
      "execution_count": null,
      "outputs": [
        {
          "output_type": "stream",
          "name": "stdout",
          "text": [
            "0\n",
            "518\n",
            "7.194444444444445\n"
          ]
        }
      ]
    },
    {
      "cell_type": "markdown",
      "source": [
        "#### Присваивание значений"
      ],
      "metadata": {
        "id": "HwSxrr21xuGh"
      }
    },
    {
      "cell_type": "code",
      "source": [
        "x = np.array([1,2,3,4,5])\n",
        "x[-1] = 20\n",
        "x[:2] = 10\n",
        "x"
      ],
      "metadata": {
        "colab": {
          "base_uri": "https://localhost:8080/"
        },
        "id": "-XPPJQjgxxis",
        "outputId": "919d2e51-e07e-488d-f69a-b7891ff8f197"
      },
      "execution_count": null,
      "outputs": [
        {
          "output_type": "execute_result",
          "data": {
            "text/plain": [
              "array([10, 10,  3,  4, 20])"
            ]
          },
          "metadata": {},
          "execution_count": 9
        }
      ]
    },
    {
      "cell_type": "code",
      "source": [
        "x = np.array([1,2,3,4,5])\n",
        "x[[0, 1, 4]] += 10\n",
        "x"
      ],
      "metadata": {
        "colab": {
          "base_uri": "https://localhost:8080/"
        },
        "id": "S_z-tzGgx-Fx",
        "outputId": "2a07e3ab-8018-4402-e13c-00db7a437632"
      },
      "execution_count": null,
      "outputs": [
        {
          "output_type": "execute_result",
          "data": {
            "text/plain": [
              "array([11, 12,  3,  4, 15])"
            ]
          },
          "metadata": {},
          "execution_count": 14
        }
      ]
    },
    {
      "cell_type": "code",
      "source": [
        "x = np.array([1,2,3,4,5])\n",
        "x[[0, 1, 4, 0]] += 10 # По 0 индексу 10 НЕ добавится дважды из-за буферизации!\n",
        "x"
      ],
      "metadata": {
        "colab": {
          "base_uri": "https://localhost:8080/"
        },
        "id": "NRxuNrc_yLFl",
        "outputId": "f3c0930b-97b3-460f-c995-108a0fe1a40f"
      },
      "execution_count": null,
      "outputs": [
        {
          "output_type": "execute_result",
          "data": {
            "text/plain": [
              "array([11, 12,  3,  4, 15])"
            ]
          },
          "metadata": {},
          "execution_count": 15
        }
      ]
    },
    {
      "cell_type": "code",
      "source": [
        "x = np.array([1,2,3,4,5])\n",
        "np.add.at(x, [0, 1, 4, 0], 10) # По 0 индексу 10 добавится дважды\n",
        "x"
      ],
      "metadata": {
        "colab": {
          "base_uri": "https://localhost:8080/"
        },
        "id": "y8-xQrl_yR57",
        "outputId": "4f3d87aa-ddf8-4c78-981b-6a5817f6582b"
      },
      "execution_count": null,
      "outputs": [
        {
          "output_type": "execute_result",
          "data": {
            "text/plain": [
              "array([21, 12,  3,  4, 15])"
            ]
          },
          "metadata": {},
          "execution_count": 17
        }
      ]
    },
    {
      "cell_type": "markdown",
      "source": [
        "#### Примитивное сравнение скорости работы с for-loop"
      ],
      "metadata": {
        "id": "P_nb726E1--l"
      }
    },
    {
      "cell_type": "code",
      "source": [
        "CNT = 100000"
      ],
      "metadata": {
        "id": "I3Xtdriu3lhb"
      },
      "execution_count": 44,
      "outputs": []
    },
    {
      "cell_type": "code",
      "source": [
        "%%timeit\n",
        "ans = 0\n",
        "for i in range(CNT):\n",
        "  ans += (i / 40) ** 2\n",
        "ans / CNT"
      ],
      "metadata": {
        "colab": {
          "base_uri": "https://localhost:8080/"
        },
        "id": "-6e53wOV2fHy",
        "outputId": "b6673aa4-28da-4852-9f04-a1e557641259"
      },
      "execution_count": 45,
      "outputs": [
        {
          "output_type": "stream",
          "name": "stdout",
          "text": [
            "16.9 ms ± 3.18 ms per loop (mean ± std. dev. of 7 runs, 100 loops each)\n"
          ]
        }
      ]
    },
    {
      "cell_type": "code",
      "source": [
        "%%timeit\n",
        "sum([(i / 40) ** 2 for i in range(CNT)]) / CNT"
      ],
      "metadata": {
        "colab": {
          "base_uri": "https://localhost:8080/"
        },
        "id": "Yd_lrc-e4_Rj",
        "outputId": "2073ce4e-79aa-4b59-dced-5ddd023837d3"
      },
      "execution_count": 46,
      "outputs": [
        {
          "output_type": "stream",
          "name": "stdout",
          "text": [
            "17.5 ms ± 4.3 ms per loop (mean ± std. dev. of 7 runs, 100 loops each)\n"
          ]
        }
      ]
    },
    {
      "cell_type": "markdown",
      "source": [
        "Первый код работает быстрее по причине того, что тут не выделяется память на поддерживание массива и работу с ним, а во втором наоборот"
      ],
      "metadata": {
        "id": "RyTGxuZ2Z3bT"
      }
    },
    {
      "cell_type": "code",
      "source": [
        "%%timeit\n",
        "arr = np.arange(CNT, dtype=float)\n",
        "arr /= 40\n",
        "arr = arr ** 2\n",
        "arr.mean()"
      ],
      "metadata": {
        "colab": {
          "base_uri": "https://localhost:8080/"
        },
        "id": "i76yo5kN2EKj",
        "outputId": "f9c1e31b-95c6-4307-ee12-e1de17785da1"
      },
      "execution_count": null,
      "outputs": [
        {
          "output_type": "stream",
          "name": "stdout",
          "text": [
            "278 µs ± 16.4 µs per loop (mean ± std. dev. of 7 runs, 1000 loops each)\n"
          ]
        }
      ]
    },
    {
      "cell_type": "code",
      "source": [
        "%%timeit\n",
        "((np.arange(CNT, dtype=float) / 40) ** 2).mean()"
      ],
      "metadata": {
        "colab": {
          "base_uri": "https://localhost:8080/"
        },
        "id": "M8h5FH034FW7",
        "outputId": "f306a458-f00f-42a8-989d-3d3213376ab7"
      },
      "execution_count": null,
      "outputs": [
        {
          "output_type": "stream",
          "name": "stdout",
          "text": [
            "254 µs ± 9.86 µs per loop (mean ± std. dev. of 7 runs, 1000 loops each)\n"
          ]
        }
      ]
    },
    {
      "cell_type": "markdown",
      "source": [
        "Второй вариант быстрее так, как мы не создаем другие массивы и изменяем их как в первом варике, а создаем изменяем один и тот же"
      ],
      "metadata": {
        "id": "JBQju7cPaXvl"
      }
    },
    {
      "cell_type": "markdown",
      "metadata": {
        "id": "XzWfg5loWBoJ"
      },
      "source": [
        "#### Сортировка"
      ]
    },
    {
      "cell_type": "code",
      "execution_count": null,
      "metadata": {
        "id": "IHYhGAkhWBoK"
      },
      "outputs": [],
      "source": [
        "a = np.array([1, 5, 6, 10, -2, 0, 18])"
      ]
    },
    {
      "cell_type": "code",
      "execution_count": null,
      "metadata": {
        "id": "cfW88LIdWBoK",
        "colab": {
          "base_uri": "https://localhost:8080/"
        },
        "outputId": "54288b82-d02a-420f-ec13-3055e4f5ff4f"
      },
      "outputs": [
        {
          "output_type": "stream",
          "name": "stdout",
          "text": [
            "[-2  0  1  5  6 10 18]\n",
            "[ 1  5  6 10 -2  0 18]\n"
          ]
        }
      ],
      "source": [
        "# Not inplace\n",
        "print(np.sort(a))\n",
        "print(a)"
      ]
    },
    {
      "cell_type": "code",
      "execution_count": null,
      "metadata": {
        "id": "u1uDbbDkWBoK",
        "colab": {
          "base_uri": "https://localhost:8080/"
        },
        "outputId": "0660817e-e583-47a3-f2a0-d2e6cc8b0656"
      },
      "outputs": [
        {
          "output_type": "stream",
          "name": "stdout",
          "text": [
            "[-2  0  1  5  6 10 18]\n"
          ]
        }
      ],
      "source": [
        "# Inplace\n",
        "a.sort()\n",
        "print(a)"
      ]
    },
    {
      "cell_type": "markdown",
      "metadata": {
        "id": "gwpAeh2KWBoL"
      },
      "source": [
        "#### Объединение массивов"
      ]
    },
    {
      "cell_type": "code",
      "source": [
        "a = np.arange(4)"
      ],
      "metadata": {
        "id": "smeK9j53xgBd"
      },
      "execution_count": null,
      "outputs": []
    },
    {
      "cell_type": "code",
      "execution_count": null,
      "metadata": {
        "id": "qrnGQcnJWBoK",
        "colab": {
          "base_uri": "https://localhost:8080/"
        },
        "outputId": "11683d6b-d562-4048-e1dd-827feb7fc494"
      },
      "outputs": [
        {
          "output_type": "execute_result",
          "data": {
            "text/plain": [
              "array([1., 1., 1., 1., 1.])"
            ]
          },
          "metadata": {},
          "execution_count": 104
        }
      ],
      "source": [
        "b = np.ones(5)\n",
        "b"
      ]
    },
    {
      "cell_type": "code",
      "execution_count": null,
      "metadata": {
        "id": "PRCmRqD8WBoL",
        "colab": {
          "base_uri": "https://localhost:8080/"
        },
        "outputId": "df17bb52-7389-4e07-bf99-e63ddb688d38"
      },
      "outputs": [
        {
          "output_type": "execute_result",
          "data": {
            "text/plain": [
              "array([0., 1., 2., 3., 1., 1., 1., 1., 1., 5., 5., 5., 5., 5.])"
            ]
          },
          "metadata": {},
          "execution_count": 105
        }
      ],
      "source": [
        "c = np.hstack((a, b, 5 * b))\n",
        "c"
      ]
    },
    {
      "cell_type": "code",
      "source": [
        "np.vstack((a, np.random.randn(*a.shape), np.random.randn(*a.shape)))"
      ],
      "metadata": {
        "colab": {
          "base_uri": "https://localhost:8080/"
        },
        "id": "uBG9oenD6VNO",
        "outputId": "34eb02c8-94fb-44a6-d2f8-8115ec413669"
      },
      "execution_count": null,
      "outputs": [
        {
          "output_type": "execute_result",
          "data": {
            "text/plain": [
              "array([[ 0.        ,  1.        ,  2.        ,  3.        ],\n",
              "       [ 0.05680477, -0.95362083, -0.24479503,  0.50499744],\n",
              "       [-2.09809036, -1.36782917, -1.36009438, -0.03267816]])"
            ]
          },
          "metadata": {},
          "execution_count": 106
        }
      ]
    },
    {
      "cell_type": "markdown",
      "source": [
        "#### Broadcasting (https://numpy.org/doc/stable/user/basics.broadcasting.html)"
      ],
      "metadata": {
        "id": "9odrxbTN_WrS"
      }
    },
    {
      "cell_type": "markdown",
      "source": [
        "\n",
        "Бродкастинг (broadcasting) в Python относится к механизму, позволяющему выполнять операции над массивами разной формы, автоматически подстраивая их размеры для соответствия друг другу.\n",
        "\n",
        "Например, если у вас есть массив размером 3x4 и вы хотите добавить к каждой строке этого массива одно и то же число, вместо того чтобы вручную повторять это число для каждого элемента, механизм бродкастинга сделает это за вас автоматически."
      ],
      "metadata": {
        "id": "9fWn45vTbKw2"
      }
    },
    {
      "cell_type": "markdown",
      "source": [
        "Правило бродкастинга для поэлементных арифметических операций:\n",
        "\n",
        "Дополняем единичными размерностями меньший массив так, чтобы кол-во размерностей совпадало.\n",
        "\n",
        "Сравниваем поэлементно размерности.\n",
        "\n",
        "Размерности совместимы, если:\n",
        "\n",
        "a) Они равны\n",
        "или\n",
        "b) Одна из них равна 1"
      ],
      "metadata": {
        "id": "fAQdypWSHMoQ"
      }
    },
    {
      "cell_type": "code",
      "source": [
        "a = np.arange(90).reshape(6, 5, 1, 3, 1)\n",
        "b = np.arange(8).reshape(4, 1, 2)\n",
        "(a * b).shape"
      ],
      "metadata": {
        "colab": {
          "base_uri": "https://localhost:8080/"
        },
        "id": "HG0f-WCr_V9v",
        "outputId": "2618fa56-44d3-4b14-ce1a-f490d3e5c99f"
      },
      "execution_count": 49,
      "outputs": [
        {
          "output_type": "execute_result",
          "data": {
            "text/plain": [
              "(6, 5, 4, 3, 2)"
            ]
          },
          "metadata": {},
          "execution_count": 49
        }
      ]
    },
    {
      "cell_type": "code",
      "source": [
        "a = np.array([5, 10])\n",
        "b = np.array([[1, 2],\n",
        "              [3, 4],\n",
        "              [5, 6],\n",
        "              [7, 8]])\n",
        "print(a.shape)\n",
        "print(b.shape)\n",
        "a + b"
      ],
      "metadata": {
        "colab": {
          "base_uri": "https://localhost:8080/"
        },
        "id": "zejgIbFfJVy9",
        "outputId": "ef44ff87-1d93-4fe7-8687-dea1615b5dd2"
      },
      "execution_count": 50,
      "outputs": [
        {
          "output_type": "stream",
          "name": "stdout",
          "text": [
            "(2,)\n",
            "(4, 2)\n"
          ]
        },
        {
          "output_type": "execute_result",
          "data": {
            "text/plain": [
              "array([[ 6, 12],\n",
              "       [ 8, 14],\n",
              "       [10, 16],\n",
              "       [12, 18]])"
            ]
          },
          "metadata": {},
          "execution_count": 50
        }
      ]
    },
    {
      "cell_type": "markdown",
      "source": [
        "#### Dtypes"
      ],
      "metadata": {
        "id": "AbeUow9I2BfK"
      }
    },
    {
      "cell_type": "code",
      "source": [
        "a = np.array([1,2,3])\n",
        "a.dtype"
      ],
      "metadata": {
        "colab": {
          "base_uri": "https://localhost:8080/"
        },
        "id": "2XV1TM4Q1Yal",
        "outputId": "b8ed49e3-b1b0-4851-8cc1-bd878a30055a"
      },
      "execution_count": null,
      "outputs": [
        {
          "output_type": "execute_result",
          "data": {
            "text/plain": [
              "dtype('int64')"
            ]
          },
          "metadata": {},
          "execution_count": 32
        }
      ]
    },
    {
      "cell_type": "code",
      "source": [
        "x = np.array([\"123\",\"21243\"])\n",
        "x"
      ],
      "metadata": {
        "colab": {
          "base_uri": "https://localhost:8080/"
        },
        "id": "2vDTyTdf2Tee",
        "outputId": "e98310a7-daea-4f72-a91a-93bcbc8bf9b2"
      },
      "execution_count": null,
      "outputs": [
        {
          "output_type": "execute_result",
          "data": {
            "text/plain": [
              "array(['123', '21243'], dtype='<U5')"
            ]
          },
          "metadata": {},
          "execution_count": 39
        }
      ]
    },
    {
      "cell_type": "code",
      "source": [
        "x = np.array([1, \"2\", None])\n",
        "x"
      ],
      "metadata": {
        "colab": {
          "base_uri": "https://localhost:8080/"
        },
        "id": "ExaGhLn31KHz",
        "outputId": "dc59c34e-889d-42c8-e643-8131eaf50646"
      },
      "execution_count": null,
      "outputs": [
        {
          "output_type": "execute_result",
          "data": {
            "text/plain": [
              "array([1, '2', None], dtype=object)"
            ]
          },
          "metadata": {},
          "execution_count": 33
        }
      ]
    },
    {
      "cell_type": "code",
      "source": [
        "x = np.array([[1,2],[3,4]], dtype=np.float64)\n",
        "x.dtype"
      ],
      "metadata": {
        "colab": {
          "base_uri": "https://localhost:8080/"
        },
        "id": "ncMho0Ch1twS",
        "outputId": "46331950-5087-460d-a2bf-f93c55b91a29"
      },
      "execution_count": null,
      "outputs": [
        {
          "output_type": "execute_result",
          "data": {
            "text/plain": [
              "dtype('float64')"
            ]
          },
          "metadata": {},
          "execution_count": 41
        }
      ]
    },
    {
      "cell_type": "code",
      "source": [
        "x = np.array([-10, 50, 100, 200, 255], dtype=np.uint8)\n",
        "x"
      ],
      "metadata": {
        "colab": {
          "base_uri": "https://localhost:8080/"
        },
        "id": "yhDhJRz26qpG",
        "outputId": "ea3f2ca7-0b75-4551-fc93-e2603ccc00ec"
      },
      "execution_count": null,
      "outputs": [
        {
          "output_type": "execute_result",
          "data": {
            "text/plain": [
              "array([246,  50, 100, 200, 255], dtype=uint8)"
            ]
          },
          "metadata": {},
          "execution_count": 99
        }
      ]
    },
    {
      "cell_type": "code",
      "source": [
        "x += 1\n",
        "x"
      ],
      "metadata": {
        "colab": {
          "base_uri": "https://localhost:8080/"
        },
        "id": "u9TNN-wz6288",
        "outputId": "0eb21b73-5bda-4d8e-d6b6-1a62a348e41e"
      },
      "execution_count": null,
      "outputs": [
        {
          "output_type": "execute_result",
          "data": {
            "text/plain": [
              "array([247,  51, 101, 201,   0], dtype=uint8)"
            ]
          },
          "metadata": {},
          "execution_count": 100
        }
      ]
    },
    {
      "cell_type": "markdown",
      "source": [
        "# Производная линейного слоя"
      ],
      "metadata": {
        "id": "O5aIAwLTUZHv"
      }
    },
    {
      "cell_type": "markdown",
      "source": [
        "Пусть есть функция $y(X) = X * W$, где $X$ - матрица размера $[m,n]$, а $W$ - матрица размера $[n, k]$.\n",
        "\n",
        "Чему равна производная $\\dfrac{\\partial{y}}{\\partial{X}}$?\n",
        "\n",
        "Заметим, что мы пытаемся найти производную по матрице, поэтому и результатом будет тоже матрица (причем такого же размера как и $X$)\n",
        "\n",
        "Вспомним формулу перемножения матриц:\n",
        "$$c_{ij}=\\sum_{r=0}^{n} x_{ir} \\cdot w_{rj}$$\n",
        "\n",
        "Значит, $$\\dfrac{\\partial{y}}{\\partial{X_{ir}}} = \\sum_{j=0}^{k} w_{rj} = w[r,:].sum()$$\n",
        "\n",
        "Это означает, что, например, производная любого элемента первого столба иксов равна сумме значений в первой строке матрицы $W$.\n",
        "\n",
        "Т.е., например, для $m = 3$, $n = 2$, $k = 4$\n",
        "\n",
        "$X = \\left[\n",
        " \\begin{matrix}\n",
        "   1 & 2 \\\\\n",
        "   3 & 4 \\\\\n",
        "   5 & 6 \\\\\n",
        "  \\end{matrix}\n",
        "\\right]$\n",
        "\n",
        "$W = \\left[\n",
        " \\begin{matrix}\n",
        "   1 & 2 & 3 & 4\\\\\n",
        "   5 & 6 & 7 & 8\\\\\n",
        "  \\end{matrix}\n",
        "\\right]$\n",
        "\n",
        "$\\dfrac{\\partial{y}}{\\partial{X}} = \\left[\n",
        " \\begin{matrix}\n",
        "   10 & 26 \\\\\n",
        "   10 & 26 \\\\\n",
        "   10 & 26 \\\\\n",
        "  \\end{matrix}\n",
        "\\right] = \\left[\n",
        " \\begin{matrix}\n",
        "   1 & 1 & 1 & 1\\\\\n",
        "   1 & 1 & 1 & 1\\\\\n",
        "   1 & 1 & 1 & 1\\\\\n",
        "  \\end{matrix}\n",
        "\\right]_{m * k} * W^T$\n",
        "\n",
        "Найдем теперь производную по $W$: $$\\dfrac{\\partial{y}}{\\partial{W_{rj}}} = \\sum_{i=0}^{m} x_{ir} = x[:,r].sum()$$\n",
        "\n",
        "$\\dfrac{\\partial{y}}{\\partial{W}} = \\left[\n",
        " \\begin{matrix}\n",
        "   9  & 9  & 9  & 9\\\\\n",
        "   12 & 12 & 12 & 12\\\\\n",
        "  \\end{matrix}\n",
        "\\right] = X^T * \\left[\n",
        " \\begin{matrix}\n",
        "   1 & 1 & 1 & 1\\\\\n",
        "   1 & 1 & 1 & 1\\\\\n",
        "   1 & 1 & 1 & 1\\\\\n",
        "  \\end{matrix}\n",
        "\\right]_{m * k}$"
      ],
      "metadata": {
        "id": "MsRu-8XlUiw2"
      }
    },
    {
      "cell_type": "code",
      "source": [
        "m, n, k = 3, 2, 4\n",
        "X_shape = (m , n)\n",
        "W_shape = (n, k)\n",
        "\n",
        "X = np.arange(np.prod(X_shape)).reshape(X_shape) + 1\n",
        "W = np.arange(np.prod(W_shape)).reshape(W_shape) + 1\n",
        "print(X)\n",
        "print(W)"
      ],
      "metadata": {
        "colab": {
          "base_uri": "https://localhost:8080/"
        },
        "id": "WuOe0BvoYLUt",
        "outputId": "eab73dde-cc57-4e48-b0f5-c03b65c51097"
      },
      "execution_count": null,
      "outputs": [
        {
          "output_type": "stream",
          "name": "stdout",
          "text": [
            "[[1 2]\n",
            " [3 4]\n",
            " [5 6]]\n",
            "[[1 2 3 4]\n",
            " [5 6 7 8]]\n"
          ]
        }
      ]
    },
    {
      "cell_type": "code",
      "source": [
        "ones_grad_shape = (m, k)\n",
        "ones_grad = np.ones(np.prod(ones_grad_shape)).reshape(ones_grad_shape)\n",
        "ones_grad"
      ],
      "metadata": {
        "colab": {
          "base_uri": "https://localhost:8080/"
        },
        "id": "z3pB6J2HfJ0K",
        "outputId": "ee09b187-68eb-417b-c0c2-610f472b7990"
      },
      "execution_count": null,
      "outputs": [
        {
          "output_type": "execute_result",
          "data": {
            "text/plain": [
              "array([[1., 1., 1., 1.],\n",
              "       [1., 1., 1., 1.],\n",
              "       [1., 1., 1., 1.]])"
            ]
          },
          "metadata": {},
          "execution_count": 54
        }
      ]
    },
    {
      "cell_type": "code",
      "source": [
        "print(ones_grad @ W.T)"
      ],
      "metadata": {
        "colab": {
          "base_uri": "https://localhost:8080/"
        },
        "id": "wTz-oI4tfY5D",
        "outputId": "2121b1a8-0905-4c42-9cf9-589f050bfa8d"
      },
      "execution_count": null,
      "outputs": [
        {
          "output_type": "stream",
          "name": "stdout",
          "text": [
            "[[10. 26.]\n",
            " [10. 26.]\n",
            " [10. 26.]]\n"
          ]
        }
      ]
    },
    {
      "cell_type": "code",
      "source": [
        "print(X.T @ ones_grad)"
      ],
      "metadata": {
        "colab": {
          "base_uri": "https://localhost:8080/"
        },
        "id": "LMFdI9i-ffTz",
        "outputId": "eb85dfb0-78f2-4865-86b1-6db3d2d9e5ff"
      },
      "execution_count": null,
      "outputs": [
        {
          "output_type": "stream",
          "name": "stdout",
          "text": [
            "[[ 9.  9.  9.  9.]\n",
            " [12. 12. 12. 12.]]\n"
          ]
        }
      ]
    },
    {
      "cell_type": "markdown",
      "source": [
        "#### check"
      ],
      "metadata": {
        "id": "4txAMuTTj3RX"
      }
    },
    {
      "cell_type": "code",
      "source": [
        "m, n, k = 5, 3, 1\n",
        "X_shape = (m , n)\n",
        "W_shape = (n, k)\n",
        "Z_shape = (m, k)\n",
        "\n",
        "X = np.arange(np.prod(X_shape)).reshape(X_shape) + 1\n",
        "W = np.arange(np.prod(W_shape)).reshape(W_shape) + 1\n",
        "Z = np.arange(np.prod(Z_shape)).reshape(Z_shape) + 1\n",
        "print(X)\n",
        "print(W)\n",
        "print(Z)"
      ],
      "metadata": {
        "colab": {
          "base_uri": "https://localhost:8080/"
        },
        "id": "jeaabZ029wAx",
        "outputId": "568ba6b2-7c56-4d24-8a24-f67aa3b0e1ca"
      },
      "execution_count": null,
      "outputs": [
        {
          "output_type": "stream",
          "name": "stdout",
          "text": [
            "[[ 1  2  3]\n",
            " [ 4  5  6]\n",
            " [ 7  8  9]\n",
            " [10 11 12]\n",
            " [13 14 15]]\n",
            "[[1]\n",
            " [2]\n",
            " [3]]\n",
            "[[1]\n",
            " [2]\n",
            " [3]\n",
            " [4]\n",
            " [5]]\n"
          ]
        }
      ]
    },
    {
      "cell_type": "code",
      "source": [
        "ones_grad_shape = (m, k)\n",
        "ones_grad = np.ones(np.prod(ones_grad_shape)).reshape(ones_grad_shape)\n",
        "ones_grad"
      ],
      "metadata": {
        "colab": {
          "base_uri": "https://localhost:8080/"
        },
        "id": "TYqcvUJN__65",
        "outputId": "1b5645ea-b1fd-470a-c6af-8349e3ef28a3"
      },
      "execution_count": null,
      "outputs": [
        {
          "output_type": "execute_result",
          "data": {
            "text/plain": [
              "array([[1.],\n",
              "       [1.],\n",
              "       [1.],\n",
              "       [1.],\n",
              "       [1.]])"
            ]
          },
          "metadata": {},
          "execution_count": 133
        }
      ]
    },
    {
      "cell_type": "code",
      "source": [
        "q1 = X.T @ ones_grad @ Z.T\n",
        "q1"
      ],
      "metadata": {
        "colab": {
          "base_uri": "https://localhost:8080/"
        },
        "id": "nqyYXMbLAF9z",
        "outputId": "e1c3c895-a386-41bb-fd3b-4d045c64f180"
      },
      "execution_count": null,
      "outputs": [
        {
          "output_type": "execute_result",
          "data": {
            "text/plain": [
              "array([[ 35.,  70., 105., 140., 175.],\n",
              "       [ 40.,  80., 120., 160., 200.],\n",
              "       [ 45.,  90., 135., 180., 225.]])"
            ]
          },
          "metadata": {},
          "execution_count": 134
        }
      ]
    },
    {
      "cell_type": "code",
      "source": [
        "Z.shape"
      ],
      "metadata": {
        "colab": {
          "base_uri": "https://localhost:8080/"
        },
        "id": "GTz_NyMjCA-Y",
        "outputId": "cc31a33b-33d2-4e64-da3d-309541892bbe"
      },
      "execution_count": null,
      "outputs": [
        {
          "output_type": "execute_result",
          "data": {
            "text/plain": [
              "(5, 1)"
            ]
          },
          "metadata": {},
          "execution_count": 135
        }
      ]
    },
    {
      "cell_type": "code",
      "source": [
        "X.shape"
      ],
      "metadata": {
        "colab": {
          "base_uri": "https://localhost:8080/"
        },
        "id": "1z6Mh4qHCB8x",
        "outputId": "bb0962c9-6c4a-4926-98b0-e1675031a8ef"
      },
      "execution_count": null,
      "outputs": [
        {
          "output_type": "execute_result",
          "data": {
            "text/plain": [
              "(5, 3)"
            ]
          },
          "metadata": {},
          "execution_count": 136
        }
      ]
    },
    {
      "cell_type": "code",
      "source": [
        "Z, Z.repeat(m, 1)"
      ],
      "metadata": {
        "colab": {
          "base_uri": "https://localhost:8080/"
        },
        "id": "d4EczcyskOEW",
        "outputId": "ca3ccf03-660c-4386-8ceb-cd56abf410af"
      },
      "execution_count": null,
      "outputs": [
        {
          "output_type": "execute_result",
          "data": {
            "text/plain": [
              "(array([[1],\n",
              "        [2],\n",
              "        [3],\n",
              "        [4],\n",
              "        [5]]),\n",
              " array([[1, 1, 1, 1, 1],\n",
              "        [2, 2, 2, 2, 2],\n",
              "        [3, 3, 3, 3, 3],\n",
              "        [4, 4, 4, 4, 4],\n",
              "        [5, 5, 5, 5, 5]]))"
            ]
          },
          "metadata": {},
          "execution_count": 144
        }
      ]
    },
    {
      "cell_type": "code",
      "source": [
        "q2 = X.T @ Z.repeat(m, 1).T\n",
        "q2"
      ],
      "metadata": {
        "colab": {
          "base_uri": "https://localhost:8080/"
        },
        "id": "aoL5KjoNAOaW",
        "outputId": "3915434d-2516-41b5-c0a9-36785a9e1208"
      },
      "execution_count": null,
      "outputs": [
        {
          "output_type": "execute_result",
          "data": {
            "text/plain": [
              "array([[ 35,  70, 105, 140, 175],\n",
              "       [ 40,  80, 120, 160, 200],\n",
              "       [ 45,  90, 135, 180, 225]])"
            ]
          },
          "metadata": {},
          "execution_count": 148
        }
      ]
    },
    {
      "cell_type": "markdown",
      "source": [
        "#Регрессия на NumPy"
      ],
      "metadata": {
        "id": "bRrK_3oqf-ZG"
      }
    },
    {
      "cell_type": "code",
      "execution_count": null,
      "metadata": {
        "id": "04-BbZuF9la2"
      },
      "outputs": [],
      "source": [
        "import numpy as np\n",
        "import matplotlib.pyplot as plt\n",
        "from mpl_toolkits.mplot3d import Axes3D"
      ]
    },
    {
      "cell_type": "markdown",
      "source": [
        "### Генерация датасета"
      ],
      "metadata": {
        "id": "lEsxqkYXgOb2"
      }
    },
    {
      "cell_type": "code",
      "source": [
        "np.random.seed(1)\n",
        "\n",
        "N = 500 # Размер датасета\n",
        "\n",
        "X = np.random.random((N, 2)) * 4 - 2 # N пар значений от (-2, +2)\n",
        "\n",
        "Y = X[:, 0] * X[:, 1] * 1.5 # Формируем седловую функцию, эта функция в реальной жизни нам неизвестна\n",
        "\n",
        "# X    - входные данные\n",
        "# Y    - целевая переменная\n",
        "# Ypred - предсказанное значение"
      ],
      "metadata": {
        "id": "elak8k3C-8dy"
      },
      "execution_count": null,
      "outputs": []
    },
    {
      "cell_type": "code",
      "source": [
        "X[:5,0]"
      ],
      "metadata": {
        "id": "srsXmiC1VdHc",
        "outputId": "31f3b4da-2ceb-4f41-85d5-8588ef22c09d",
        "colab": {
          "base_uri": "https://localhost:8080/"
        }
      },
      "execution_count": null,
      "outputs": [
        {
          "output_type": "execute_result",
          "data": {
            "text/plain": [
              "array([-0.33191198, -1.9995425 , -1.41297644, -1.25495915, -0.4129301 ])"
            ]
          },
          "metadata": {},
          "execution_count": 3
        }
      ]
    },
    {
      "cell_type": "code",
      "source": [
        "X[:5,1]"
      ],
      "metadata": {
        "id": "4or_yNPqVf-V",
        "outputId": "e6383daf-9076-4c8f-d478-052d938f5a8e",
        "colab": {
          "base_uri": "https://localhost:8080/"
        }
      },
      "execution_count": null,
      "outputs": [
        {
          "output_type": "execute_result",
          "data": {
            "text/plain": [
              "array([ 0.88129797, -0.79066971, -1.63064562, -0.61775709,  0.15526694])"
            ]
          },
          "metadata": {},
          "execution_count": 4
        }
      ]
    },
    {
      "cell_type": "code",
      "source": [
        "X[:5,0] * X[:5,1]"
      ],
      "metadata": {
        "id": "FdtCsE8YVhw_",
        "outputId": "c679c8e2-caa6-445d-ec3b-6175dceb6753",
        "colab": {
          "base_uri": "https://localhost:8080/"
        }
      },
      "execution_count": null,
      "outputs": [
        {
          "output_type": "execute_result",
          "data": {
            "text/plain": [
              "array([-0.29251336,  1.58097769,  2.30406384,  0.77525992, -0.06411439])"
            ]
          },
          "metadata": {},
          "execution_count": 5
        }
      ]
    },
    {
      "cell_type": "markdown",
      "source": [
        "### Визуализация датасета"
      ],
      "metadata": {
        "id": "X7GQ4onSg8RO"
      }
    },
    {
      "cell_type": "code",
      "source": [
        "fig = plt.figure()\n",
        "ax = fig.add_subplot(111, projection='3d')\n",
        "ax.scatter(X[:,0], X[:,1], Y)\n",
        "plt.show()"
      ],
      "metadata": {
        "colab": {
          "base_uri": "https://localhost:8080/",
          "height": 416
        },
        "id": "q0Pn2LKGqRl7",
        "outputId": "f6750225-e330-4cef-b462-9f3bad6f42ac"
      },
      "execution_count": null,
      "outputs": [
        {
          "output_type": "display_data",
          "data": {
            "text/plain": [
              "<Figure size 640x480 with 1 Axes>"
            ],
            "image/png": "[encoded data removed]"
          },
          "metadata": {}
        }
      ]
    },
    {
      "cell_type": "markdown",
      "source": [
        "## Создаем нейронную сеть и обучаем её"
      ],
      "metadata": {
        "id": "pWTmgJ_0hBPI"
      }
    },
    {
      "cell_type": "markdown",
      "source": [
        "### Инициализация оптимизируемых параметров (весов)"
      ],
      "metadata": {
        "id": "jGwsfRA9iU8w"
      }
    },
    {
      "cell_type": "code",
      "source": [
        "D = 2 # Размер входа\n",
        "M = 100 # Количество скрытых нейронов\n",
        "\n",
        "# Оптимизируемые веса:\n",
        "\n",
        "# Первый линейный слой\n",
        "W1 = np.random.randn(D, M) / np.sqrt(D) # Первая матрица весов\n",
        "# W.shape == (2, 100)\n",
        "b1 = np.zeros(M) # Вектор сдвига (bias)\n",
        "# b.shape == (100,)\n",
        "\n",
        "# Второй линейный слой\n",
        "W2 = np.random.randn(M) / np.sqrt(M) # Вторая матрица весов\n",
        "# W2.shape == (100,)\n",
        "b2 = 0 # Вектор сдвига (bias)"
      ],
      "metadata": {
        "id": "2haaETFVqM8G"
      },
      "execution_count": null,
      "outputs": []
    },
    {
      "cell_type": "markdown",
      "source": [
        "### Forward функция"
      ],
      "metadata": {
        "id": "8hQyXupsiZ9j"
      }
    },
    {
      "cell_type": "code",
      "source": [
        "# предсказывает по входу целевое значение\n",
        "def forward(X, W1, b1, W2, b2):\n",
        "  Z = X @ W1 + b1 # Прогнали через первый слой\n",
        "  # Z.shape == (500, 100)\n",
        "  Z_act = Z * (Z > 0) # Применим функцию активации ReLU\n",
        "  # Z_act.shape == (500, 100)\n",
        "\n",
        "  Ypred = Z_act @ W2 + b2 # Прогоняем через второй слой\n",
        "  # (500, 100) @ (100, ) -> (500, )\n",
        "  return Z_act, Ypred"
      ],
      "metadata": {
        "id": "69s64L3z-3iz"
      },
      "execution_count": null,
      "outputs": []
    },
    {
      "cell_type": "markdown",
      "source": [
        "### Функция потери"
      ],
      "metadata": {
        "id": "osAQ_0KlkUHG"
      }
    },
    {
      "cell_type": "code",
      "source": [
        "def calc_loss(Y, Ypred):\n",
        "  return ((Y - Ypred) ** 2).mean() # Считаем функцию MSE"
      ],
      "metadata": {
        "id": "_hV1BPPzkZv5"
      },
      "execution_count": null,
      "outputs": []
    },
    {
      "cell_type": "code",
      "source": [
        "# Посчитаем потерю перед обучением\n",
        "z, Ypred = forward(X, W1, b1, W2, b2)\n",
        "print(Ypred.shape)\n",
        "loss = calc_loss(Y, Ypred)\n",
        "loss"
      ],
      "metadata": {
        "colab": {
          "base_uri": "https://localhost:8080/"
        },
        "id": "4IEqidzkmGEn",
        "outputId": "2d4e1bdb-a91c-4163-f028-84f739ecdea5"
      },
      "execution_count": null,
      "outputs": [
        {
          "output_type": "stream",
          "name": "stdout",
          "text": [
            "(500,)\n"
          ]
        },
        {
          "output_type": "execute_result",
          "data": {
            "text/plain": [
              "5.498455466538703"
            ]
          },
          "metadata": {},
          "execution_count": 10
        }
      ]
    },
    {
      "cell_type": "markdown",
      "source": [
        "### Классический градиентный спуск\n",
        "\n",
        "Для применения градиентного спуска, мы должны знать, на сколько нужно изменить веса. Производная (градиент) функции потерь (ФП) по весу показывает направление роста функции потери. Т.к. мы хотим значение ФП уменьшать, то должны делать сдвиг веса в противоположную сторону. Коэффициент `lr` будет определять, насколько сильное изменение мы хотим сделать.\n",
        "\n",
        "Таким образом, обновление веса происходит по формуле:\n",
        "$W_{new} = W_{old} - lr \\cdot grad_{W_{old}}$, где $grad_{W_{old}} = \\dfrac{\\partial{Loss}}{\\partial{W_{old}}}$"
      ],
      "metadata": {
        "id": "uutiADv3ofzU"
      }
    },
    {
      "cell_type": "markdown",
      "source": [
        "### Производные для обновления весов"
      ],
      "metadata": {
        "id": "hOGoscWmkkOF"
      }
    },
    {
      "cell_type": "markdown",
      "source": [
        "Рассмотрим функцию `forward` как последовательное применение функций.\n",
        "\n",
        "Т.е. $Y_{pred} = forward(X) = f_k(f_{k-1}(...f_3(f_2(f_1(X)))))$\n",
        "\n",
        "$Loss$ - функция потери, принимающая на вход $Y_{true}$ и $Y_{pred}$. В нашем случае $Loss = MSE(Y_{true}, Y_{pred})$\n",
        "\n",
        "Попробуем найти в общем случае $grad_{X} = \\dfrac{\\partial{Loss}}{\\partial{X}}$.\n",
        "\n",
        "Вспомним про цепное правило:\n",
        "$$\\dfrac{\\partial{Loss}}{\\partial{X}} = \\dfrac{\\partial{Loss}}{\\partial{f_x}} * \\dfrac{\\partial{f_x}}{\\partial{X}}$$\n",
        "\n",
        "Если идти с конца, то получится:\n",
        "$$\\dfrac{\\partial{Loss}}{\\partial{X}} = \\dfrac{\\partial{Loss}}{\\partial{f_k}} * \\dfrac{\\partial{f_k}}{\\partial{X}}$$\n",
        "$$\\dfrac{\\partial{Loss}}{\\partial{X}} = \\dfrac{\\partial{Loss}}{\\partial{f_k}} * \\dfrac{\\partial{f_k}}{\\partial{f_{k-1}}} * \\dfrac{\\partial{f_{k-1}}}{\\partial{X}}$$\n",
        "$$\\dfrac{\\partial{Loss}}{\\partial{X}} = \\dfrac{\\partial{Loss}}{\\partial{f_k}} * \\dfrac{\\partial{f_k}}{\\partial{f_{k-1}}} * \\dfrac{\\partial{f_{k-1}}}{\\partial{f_{k-2}}} * \\dfrac{\\partial{f_{k-2}}}{\\partial{X}}$$\n",
        "$$...$$\n",
        "$$\\dfrac{\\partial{Loss}}{\\partial{X}} = \\dfrac{\\partial{Loss}}{\\partial{f_k}} * \\dfrac{\\partial{f_k}}{\\partial{f_{k-1}}} * \\dfrac{\\partial{f_{k-1}}}{\\partial{f_{k-2}}} * ... * \\dfrac{\\partial{f_{1}}}{\\partial{X}}$$"
      ],
      "metadata": {
        "id": "xC1G_kwokzyT"
      }
    },
    {
      "cell_type": "markdown",
      "source": [
        "В нашем случае:\n",
        "$$f_1(x) = x @ W_1 + b_1$$\n",
        "$$f_2(x) = ReLU(x)$$\n",
        "$$f_3(x) = x @ W_2 + b_2$$\n",
        "\n",
        "В самом конце у нас есть функция потерь $Loss(y_{true}, y_{pred}) = MSE(y_{true}, y_{pred})$\n",
        "\n",
        "Итого цепочка вычислений:\n",
        "$$Z = X @ W_1 + b_1$$\n",
        "$$Z_{act} = ReLU(Z)$$\n",
        "$$Y_{pred} = Z_{act} @ W_2 + b_2$$\n",
        "$$Loss = MSE(Y_{true}, Y_{pred}) = mean((Y_{true} - Y_{pred}) ^ 2)$$\n",
        "\n",
        "Подсчитаем $grad_{W_{2}}$:\n",
        "\n",
        "$$grad_{W_{2}} = \\dfrac{\\partial{Loss}}{\\partial{W_2}} = \\dfrac{\\partial{Loss}}{\\partial{Y_{pred}}} * \\dfrac{\\partial{Y_{pred}}}{\\partial{W_2}}$$\n",
        "$$\\dfrac{\\partial{Loss}}{\\partial{Y_{pred}}} = 2 * (Y_{pred} - Y) / N$$\n",
        "$$\\dfrac{\\partial{Y_{pred}}}{\\partial{W_2}} = Z_{act}^T @ I$$\n",
        "$$grad_{W_{2}} = \\dfrac{\\partial{Loss}}{\\partial{W_2}} = \\dfrac{\\partial{Loss}}{\\partial{Y_{pred}}} * \\dfrac{\\partial{Y_{pred}}}{\\partial{W_2}} = Z_{act}^T @ (2 * (Y_{pred} - Y) / N)$$"
      ],
      "metadata": {
        "id": "rMU4MZCL8PvK"
      }
    },
    {
      "cell_type": "code",
      "source": [
        "def derivative_W2(Z_act, Y, Ypred):\n",
        "  dYpred = 2 * (Ypred - Y) / Y.size\n",
        "  # dYpred.shape = (500,)\n",
        "  # Z_act.shape = (500,100)\n",
        "  return Z_act.T @ dYpred"
      ],
      "metadata": {
        "id": "VGyer5KyKeqb"
      },
      "execution_count": null,
      "outputs": []
    },
    {
      "cell_type": "markdown",
      "source": [
        "Подсчитаем $grad_{b_{2}}$:\n",
        "\n",
        "$$grad_{b_{2}} = \\dfrac{\\partial{Loss}}{\\partial{b_2}} = \\dfrac{\\partial{Loss}}{\\partial{Y_{pred}}} * \\dfrac{\\partial{Y_{pred}}}{\\partial{b_2}}$$\n",
        "$$\\dfrac{\\partial{Y_{pred}}}{\\partial{b_2}} = 1$$\n",
        "$$grad_{W_{2}} = \\dfrac{\\partial{Loss}}{Y_{pred}} = 2 * (Y_{pred} - Y) / N$$"
      ],
      "metadata": {
        "id": "I6DIhLwzKiPD"
      }
    },
    {
      "cell_type": "code",
      "source": [
        "def derivative_b2(Y, Ypred):\n",
        "  dYpred = 2 * (Ypred - Y) / Y.size\n",
        "  return dYpred.sum()"
      ],
      "metadata": {
        "id": "AUcb6b-vK-mn"
      },
      "execution_count": null,
      "outputs": []
    },
    {
      "cell_type": "markdown",
      "source": [
        "Подсчитаем $grad_{W_{1}}$:\n",
        "\n",
        "$$grad_{W_{1}} = \\dfrac{\\partial{Loss}}{\\partial{W_1}} = \\dfrac{\\partial{Loss}}{\\partial{Y_{pred}}} * \\dfrac{\\partial{Y_{pred}}}{\\partial{W_1}}$$\n",
        "$$\\dfrac{\\partial{Y_{pred}}}{\\partial{W_1}} = \\dfrac{\\partial{Y_{pred}}}{\\partial{Z_{act}}} * \\dfrac{\\partial{Z_{act}}}{\\partial{W_1}}=\\dfrac{\\partial{Y_{pred}}}{\\partial{Z_{act}}} * \\dfrac{\\partial{Z_{act}}}{\\partial{Z}} * \\dfrac{\\partial{Z}}{\\partial{W_1}}$$\n",
        "$$\\dfrac{\\partial{Y_{pred}}}{\\partial{Z_{act}}} = I @ W_2^T$$\n",
        "$$\\dfrac{\\partial{Z_{act}}}{\\partial{Z}} = ReLU_{mask}(Z)$$\n",
        "$$\\dfrac{\\partial{Z}}{\\partial{W_1}} = X^T @ I$$\n",
        "$$grad_{W_{1}} = \\dfrac{\\partial{Loss}}{\\partial{W_1}} = \\dfrac{\\partial{Loss}}{\\partial{Y_{pred}}} * \\dfrac{\\partial{Y_{pred}}}{\\partial{Z_{act}}} * \\dfrac{\\partial{Z_{act}}}{\\partial{Z}} * \\dfrac{\\partial{Z}}{\\partial{W_1}}= X^T @ [(2 * (Y_{pred} - Y) / N) @ W_2^T * ReLU_{mask}(Z)]$$"
      ],
      "metadata": {
        "id": "RTokc6RPLYDO"
      }
    },
    {
      "cell_type": "code",
      "source": [
        "def derivative_W1(X, Z_act, Y, Ypred, W2):\n",
        "  dYpred = 2 * (Ypred - Y) / Y.size\n",
        "  # dY.shape = (500,)\n",
        "  # W2.shape = (100,)\n",
        "  dZ_act = dYpred[:, None] @ W2[None, :]\n",
        "  # dZ_act.shape = (500, 100)\n",
        "  dZ = dZ_act * (Z_act > 0)\n",
        "  return X.T @ dZ"
      ],
      "metadata": {
        "id": "TnOEq1SxLVjf"
      },
      "execution_count": null,
      "outputs": []
    },
    {
      "cell_type": "markdown",
      "source": [
        "Подсчитаем $grad_{b_{1}}$:\n",
        "\n",
        "$$grad_{b_{1}} = \\dfrac{\\partial{Loss}}{\\partial{b_1}} = \\dfrac{\\partial{Loss}}{\\partial{Y_{pred}}} * \\dfrac{\\partial{Y_{pred}}}{\\partial{b_1}}$$\n",
        "$$\\dfrac{\\partial{Y_{pred}}}{\\partial{b_1}} = \\dfrac{\\partial{Y_{pred}}}{\\partial{Z_{act}}} * \\dfrac{\\partial{Z_{act}}}{\\partial{Z}} * \\dfrac{\\partial{Z}}{\\partial{b_1}}$$\n",
        "$$\\dfrac{\\partial{Z}}{\\partial{b_1}} = 1$$\n",
        "$$grad_{b_{1}} = (2 * (Y_{pred} - Y) / N) @ W_2^T * ReLU_{mask}(Z)$$"
      ],
      "metadata": {
        "id": "rxD-jIEKon6p"
      }
    },
    {
      "cell_type": "code",
      "source": [
        "def derivative_b1(Z_act, Y, Ypred, W2):\n",
        "  dYpred = 2 * (Ypred - Y) / Y.size\n",
        "  dZ_act = dYpred[:, None] @ W2[None, :]\n",
        "  dZ = dZ_act * (Z_act > 0)\n",
        "  return dZ.sum(axis=0)"
      ],
      "metadata": {
        "id": "uGfpG8Z7qeRA"
      },
      "execution_count": null,
      "outputs": []
    },
    {
      "cell_type": "markdown",
      "source": [
        "#### Обновление весов"
      ],
      "metadata": {
        "id": "xgWpBJuBqe7i"
      }
    },
    {
      "cell_type": "code",
      "source": [
        "def update(X, Z, Y, Ypred, cur_W1, cur_b1, cur_W2, cur_b2, learning_rate=5e-3):\n",
        "  grad_W2 = derivative_W2(Z, Y, Ypred)\n",
        "  grad_b2 = derivative_b2(Y, Ypred)\n",
        "  grad_W1 = derivative_W1(X, Z, Y, Ypred, cur_W2)\n",
        "  grad_b1 = derivative_b1(Z, Y, Ypred, cur_W2)\n",
        "\n",
        "  cur_W2 -= learning_rate * grad_W2\n",
        "  cur_b2 -= learning_rate * grad_b2\n",
        "  cur_W1 -= learning_rate * grad_W1\n",
        "  cur_b1 -= learning_rate * grad_b1\n",
        "\n",
        "  return cur_W1, cur_b1, cur_W2, cur_b2"
      ],
      "metadata": {
        "id": "GAjNGNwJkrGi"
      },
      "execution_count": null,
      "outputs": []
    },
    {
      "cell_type": "markdown",
      "source": [
        " #### Обучение"
      ],
      "metadata": {
        "id": "tSZQDmJnqiFm"
      }
    },
    {
      "cell_type": "code",
      "source": [
        "!pip install tqdm"
      ],
      "metadata": {
        "id": "qhJW70ltthC8",
        "colab": {
          "base_uri": "https://localhost:8080/"
        },
        "outputId": "0aefa8c0-b066-49c9-9a54-c110b352408e"
      },
      "execution_count": null,
      "outputs": [
        {
          "output_type": "stream",
          "name": "stdout",
          "text": [
            "Requirement already satisfied: tqdm in /usr/local/lib/python3.10/dist-packages (4.66.5)\n"
          ]
        }
      ]
    },
    {
      "cell_type": "code",
      "source": [
        "from tqdm import tqdm"
      ],
      "metadata": {
        "id": "V-lcO4x8tivJ"
      },
      "execution_count": null,
      "outputs": []
    },
    {
      "cell_type": "code",
      "source": [
        "cur_W1 = W1.copy()\n",
        "cur_b1 = b1.copy()\n",
        "cur_W2 = W2.copy()\n",
        "cur_b2 = b2\n",
        "\n",
        "losses = []\n",
        "for epoch in tqdm(range(200)):\n",
        "  Z, Ypred = forward(X, cur_W1, cur_b1, cur_W2, cur_b2)\n",
        "  loss = calc_loss(Y, Ypred)\n",
        "  losses.append(loss)\n",
        "  cur_W1, cur_b1, cur_W2, cur_b2 = update(X, Z, Y, Ypred, cur_W1, cur_b1, cur_W2, cur_b2)\n",
        "\n",
        "plt.plot(losses)\n",
        "plt.show()"
      ],
      "metadata": {
        "colab": {
          "base_uri": "https://localhost:8080/",
          "height": 447
        },
        "id": "T9Ubr7q0n6W4",
        "outputId": "9ce35cbb-3218-4a17-ab83-835b0b53c44a"
      },
      "execution_count": null,
      "outputs": [
        {
          "output_type": "stream",
          "name": "stderr",
          "text": [
            "100%|██████████| 200/200 [00:00<00:00, 601.08it/s]\n"
          ]
        },
        {
          "output_type": "display_data",
          "data": {
            "text/plain": [
              "<Figure size 640x480 with 1 Axes>"
            ],
            "image/png": "[encoded data removed]"
          },
          "metadata": {}
        }
      ]
    },
    {
      "cell_type": "markdown",
      "source": [
        "### MiniPyTorch"
      ],
      "metadata": {
        "id": "QNYFU5I36Hnm"
      }
    },
    {
      "cell_type": "markdown",
      "source": [
        "#### Базовые классы"
      ],
      "metadata": {
        "id": "qvco2AsPFC9m"
      }
    },
    {
      "cell_type": "code",
      "source": [
        "class Parameter:\n",
        "    def __init__(self, data):\n",
        "        self.data = data\n",
        "        self.grad = np.zeros_like(data)\n",
        "\n",
        "class Module:\n",
        "    def __call__(self, *args, **kwargs):\n",
        "        return self.forward(*args, **kwargs)\n",
        "\n",
        "    def forward(self, *args, **kwargs):\n",
        "        raise NotImplementedError()\n",
        "\n",
        "    def backward(self, *args, **kwargs):\n",
        "        raise NotImplementedError()\n",
        "\n",
        "    def parameters(self):\n",
        "        return []"
      ],
      "metadata": {
        "id": "Sb4PKmwI6I9l"
      },
      "execution_count": null,
      "outputs": []
    },
    {
      "cell_type": "markdown",
      "source": [
        "#### Линейный слой"
      ],
      "metadata": {
        "id": "Z-ggjhj6FAF2"
      }
    },
    {
      "cell_type": "code",
      "source": [
        "class Linear(Module):\n",
        "    def __init__(self, in_features, out_features, bias=True):\n",
        "        super(Linear, self).__init__()\n",
        "        self.weight = Parameter(np.random.randn(out_features, in_features) * np.sqrt(2 / in_features))\n",
        "        if bias:\n",
        "            self.bias = Parameter(np.zeros(out_features))\n",
        "        self.cached_x = None\n",
        "\n",
        "    def forward(self, x):\n",
        "        self.cached_x = x\n",
        "        out = x @ self.weight.data.T\n",
        "        if self.bias is not None:\n",
        "            out += self.bias.data\n",
        "        return out\n",
        "\n",
        "    def backward(self, grad):\n",
        "        # grad - это dLoss/dLinear\n",
        "        # на выход мы должны выдать dLoss/dCachedX\n",
        "        # При этом мы должны запомнить у себя dLoss/dW и dL/db\n",
        "        self.weight.grad += grad.T @ self.cached_x\n",
        "        if self.bias is not None:\n",
        "            self.bias.grad += grad.sum(axis=0)\n",
        "        return grad @ self.weight.data\n",
        "\n",
        "    def parameters(self):\n",
        "        params = [self.weight]\n",
        "        if self.bias is not None:\n",
        "            params.append(self.bias)\n",
        "        return params"
      ],
      "metadata": {
        "id": "a7WbMoNTx80J"
      },
      "execution_count": null,
      "outputs": []
    },
    {
      "cell_type": "markdown",
      "source": [
        "#### Функция активация ReLU"
      ],
      "metadata": {
        "id": "Esfqld_SFNmU"
      }
    },
    {
      "cell_type": "code",
      "source": [
        "class ReLU(Module):\n",
        "    def __init__(self):\n",
        "        super(ReLU, self).__init__()\n",
        "        self.cached_mask = None\n",
        "\n",
        "    def forward(self, x):\n",
        "        self.cached_mask = x > 0\n",
        "        # return x.clip(min=0, max=None)\n",
        "        return x * self.cached_mask\n",
        "\n",
        "    def backward(self, grad):\n",
        "        # return np.where(self.cached_mask, grad, 0)\n",
        "        return grad * self.cached_mask"
      ],
      "metadata": {
        "id": "KiNiKcfxyGrN"
      },
      "execution_count": null,
      "outputs": []
    },
    {
      "cell_type": "markdown",
      "source": [
        "#### Функция потери MSELoss"
      ],
      "metadata": {
        "id": "LUK6WM2aFQcx"
      }
    },
    {
      "cell_type": "code",
      "source": [
        "class MSELoss(Module):\n",
        "    def __init__(self):\n",
        "        super(MSELoss, self).__init__()\n",
        "        self.cached_input = None\n",
        "        self.cached_target = None\n",
        "\n",
        "    def forward(self, x, target):\n",
        "        self.cached_input = x\n",
        "        self.cached_target = target\n",
        "        out = (target - x) ** 2\n",
        "        return out.mean()\n",
        "\n",
        "    def backward(self):\n",
        "        out = 2 * (self.cached_input - self.cached_target)\n",
        "        return out / self.cached_input.size"
      ],
      "metadata": {
        "id": "djdj9cVw48Uu"
      },
      "execution_count": null,
      "outputs": []
    },
    {
      "cell_type": "markdown",
      "source": [
        "#### Обучение"
      ],
      "metadata": {
        "id": "i7curIfEFVMi"
      }
    },
    {
      "cell_type": "code",
      "source": [
        "np.random.seed(1)\n",
        "linear1 = Linear(D, M)\n",
        "relu = ReLU()\n",
        "linear2 = Linear(M, 1)\n",
        "criterion = MSELoss()"
      ],
      "metadata": {
        "id": "Gnf1ait20hkN"
      },
      "execution_count": null,
      "outputs": []
    },
    {
      "cell_type": "code",
      "source": [
        "def predict(x):\n",
        "  out = linear1(x)\n",
        "  out = relu(out)\n",
        "  out = linear2(out)\n",
        "  return out"
      ],
      "metadata": {
        "id": "yKKBJfba02GP"
      },
      "execution_count": null,
      "outputs": []
    },
    {
      "cell_type": "code",
      "source": [
        "(500, 2) * (2, 100) + (1, 100) -> * (100, 1) + (1,1) -> (500, 1)"
      ],
      "metadata": {
        "id": "zN5lzDk-MP7u"
      },
      "execution_count": null,
      "outputs": []
    },
    {
      "cell_type": "code",
      "source": [
        "predict(X).shape"
      ],
      "metadata": {
        "colab": {
          "base_uri": "https://localhost:8080/"
        },
        "id": "D6TB3gnv1Jnh",
        "outputId": "514d6e04-a274-4141-eb89-bf192294ef11"
      },
      "execution_count": null,
      "outputs": [
        {
          "output_type": "execute_result",
          "data": {
            "text/plain": [
              "(500, 1)"
            ]
          },
          "metadata": {},
          "execution_count": 25
        }
      ]
    },
    {
      "cell_type": "code",
      "source": [
        "def optimize(modules, learning_rate):\n",
        "  for module in modules:\n",
        "    for p in module.parameters():\n",
        "      p.data -= learning_rate * p.grad\n",
        "\n",
        "def zero_grad(modules):\n",
        "  for module in modules:\n",
        "    for p in module.parameters():\n",
        "      p.grad *= 0\n",
        "\n",
        "def train(num_epochs=200, learning_rate=5e-3):\n",
        "  losses = []\n",
        "  for epoch in tqdm(range(num_epochs)):\n",
        "    Ypred = predict(X).squeeze()\n",
        "    loss = criterion(Ypred, Y)\n",
        "    losses.append(loss)\n",
        "\n",
        "    grad = criterion.backward()\n",
        "    grad = linear2.backward(grad[:, None])\n",
        "    grad = relu.backward(grad)\n",
        "    grad = linear1.backward(grad)\n",
        "\n",
        "    optimize([linear1, relu, linear2], learning_rate)\n",
        "    zero_grad([linear1, relu, linear2])\n",
        "\n",
        "  plt.plot(losses)\n",
        "  plt.show()"
      ],
      "metadata": {
        "id": "qWbLaYky1S8x"
      },
      "execution_count": null,
      "outputs": []
    },
    {
      "cell_type": "code",
      "source": [
        "train(200, 5e-3)"
      ],
      "metadata": {
        "colab": {
          "base_uri": "https://localhost:8080/",
          "height": 448
        },
        "id": "2yNwjvYf6yq-",
        "outputId": "19d55a90-fe5b-447b-cc81-4fc8befe59eb"
      },
      "execution_count": null,
      "outputs": [
        {
          "output_type": "stream",
          "name": "stderr",
          "text": [
            "100%|██████████| 200/200 [00:00<00:00, 744.75it/s]\n"
          ]
        },
        {
          "output_type": "display_data",
          "data": {
            "text/plain": [
              "<Figure size 640x480 with 1 Axes>"
            ],
            "image/png": "[encoded data removed]"
          },
          "metadata": {}
        }
      ]
    },
    {
      "cell_type": "markdown",
      "source": [
        "#### Модуль последовательных вычислений"
      ],
      "metadata": {
        "id": "lrHNfOdECfmf"
      }
    },
    {
      "cell_type": "code",
      "source": [
        "class Sequential(Module):\n",
        "    def __init__(self, *layers):\n",
        "        super().__init__()\n",
        "        self.layers = layers\n",
        "\n",
        "    def forward(self, x):\n",
        "        for layer in self.layers:\n",
        "            x = layer(x)\n",
        "        return x\n",
        "\n",
        "    def backward(self, grad):\n",
        "        for i in range(len(self.layers) - 1, -1, -1):\n",
        "            grad = self.layers[i].backward(grad)\n",
        "\n",
        "    def parameters(self):\n",
        "        res = []\n",
        "        for layer in self.layers:\n",
        "            res.extend(layer.parameters())\n",
        "        return res"
      ],
      "metadata": {
        "id": "YIZAsZjrCb3v"
      },
      "execution_count": null,
      "outputs": []
    },
    {
      "cell_type": "markdown",
      "source": [
        "#### Агрегатор нейронной сети и функции потери"
      ],
      "metadata": {
        "id": "x_ABOdMKCw6Z"
      }
    },
    {
      "cell_type": "code",
      "source": [
        "class Net(Module):\n",
        "    def __init__(self, module: Module, criterion: Module):\n",
        "        super().__init__()\n",
        "        self.module = module\n",
        "        self.criterion = criterion\n",
        "\n",
        "    def forward(self, x):\n",
        "        return self.module(x)\n",
        "\n",
        "    def loss(self, *args):\n",
        "        return self.criterion(*args)\n",
        "\n",
        "    def backward(self):\n",
        "        grad = self.criterion.backward()\n",
        "        return self.module.backward(grad)\n",
        "\n",
        "    def parameters(self):\n",
        "        return self.module.parameters()"
      ],
      "metadata": {
        "id": "hS7mpQ5hC4Ku"
      },
      "execution_count": null,
      "outputs": []
    },
    {
      "cell_type": "markdown",
      "source": [
        "#### SGD оптимизатор"
      ],
      "metadata": {
        "id": "wcbQUh1JAtRh"
      }
    },
    {
      "cell_type": "code",
      "source": [
        "class Optimizer:\n",
        "    def __init__(self, optim_params, lr):\n",
        "        self.optim_params = optim_params\n",
        "        self.lr = lr\n",
        "\n",
        "    def step(self):\n",
        "        for param in self.optim_params:\n",
        "            step = self.get_grad_step(param.grad)\n",
        "            param.data -= step\n",
        "\n",
        "    def get_grad_step(self, grad):\n",
        "        raise NotImplementedError()\n",
        "\n",
        "    def zero_grad(self):\n",
        "        for param in self.optim_params:\n",
        "            param.grad *= 0\n",
        "\n",
        "class SGD(Optimizer):\n",
        "    def get_grad_step(self, grad):\n",
        "        return self.lr * grad"
      ],
      "metadata": {
        "id": "uCmWF9vWA6--"
      },
      "execution_count": null,
      "outputs": []
    },
    {
      "cell_type": "markdown",
      "source": [
        "#### И опять возьмемся за обучение"
      ],
      "metadata": {
        "id": "7PtVqKnQDKpt"
      }
    },
    {
      "cell_type": "code",
      "source": [
        "def train_loop(net, optimizer, num_epochs=200, learning_rate=5e-3):\n",
        "  losses = []\n",
        "  for epoch in tqdm(range(num_epochs)):\n",
        "    Ypred = net.forward(X)\n",
        "\n",
        "    loss = net.loss(Ypred, Y[:, None])\n",
        "    losses.append(loss)\n",
        "\n",
        "    net.backward()\n",
        "\n",
        "    optimizer.step()\n",
        "    optimizer.zero_grad()\n",
        "\n",
        "  plt.plot(losses)\n",
        "  plt.show()"
      ],
      "metadata": {
        "id": "ZTT80k0SDNyl"
      },
      "execution_count": null,
      "outputs": []
    },
    {
      "cell_type": "code",
      "source": [
        "np.random.seed(1)\n",
        "\n",
        "seq_module = Sequential(Linear(D, M), ReLU(), Linear(M, 1))\n",
        "criterion = MSELoss()\n",
        "\n",
        "net = Net(seq_module, criterion)\n",
        "optimizer = SGD(net.parameters(), lr=5e-3)\n",
        "\n",
        "train_loop(net, optimizer)"
      ],
      "metadata": {
        "colab": {
          "base_uri": "https://localhost:8080/",
          "height": 448
        },
        "id": "h-gGWhY3DrT2",
        "outputId": "0b0a7097-c22b-48bb-da2f-5ce1d18336c7"
      },
      "execution_count": null,
      "outputs": [
        {
          "output_type": "stream",
          "name": "stderr",
          "text": [
            "100%|██████████| 200/200 [00:00<00:00, 772.65it/s]\n"
          ]
        },
        {
          "output_type": "display_data",
          "data": {
            "text/plain": [
              "<Figure size 640x480 with 1 Axes>"
            ],
            "image/png": "[encoded data removed]"
          },
          "metadata": {}
        }
      ]
    },
    {
      "cell_type": "markdown",
      "source": [
        "##### Проверка работоспособности линейных слоёв"
      ],
      "metadata": {
        "id": "uFzRddfh1jft"
      }
    },
    {
      "cell_type": "code",
      "source": [
        "in_features = 2\n",
        "out_features = 4\n",
        "linear = Linear(in_features, out_features)\n",
        "linear.weight = Parameter(np.arange(out_features * in_features, dtype=np.float64).reshape(out_features, in_features))\n",
        "print(linear.weight.data.T)\n",
        "print(linear.weight.grad.T)"
      ],
      "metadata": {
        "colab": {
          "base_uri": "https://localhost:8080/"
        },
        "id": "GPPMx3Pr6LZa",
        "outputId": "323b61f2-9115-4e25-9efb-7ddb9aa4243d"
      },
      "execution_count": null,
      "outputs": [
        {
          "output_type": "stream",
          "name": "stdout",
          "text": [
            "[[0. 2. 4. 6.]\n",
            " [1. 3. 5. 7.]]\n",
            "[[0. 0. 0. 0.]\n",
            " [0. 0. 0. 0.]]\n"
          ]
        }
      ]
    },
    {
      "cell_type": "code",
      "source": [
        "X_shape = (3, 2)"
      ],
      "metadata": {
        "id": "HaugPp-kPHp2"
      },
      "execution_count": null,
      "outputs": []
    },
    {
      "cell_type": "code",
      "source": [
        "x = np.arange(np.prod(X_shape), dtype=np.float64).reshape(X_shape)\n",
        "print(x)\n",
        "res = linear(x)\n",
        "res"
      ],
      "metadata": {
        "colab": {
          "base_uri": "https://localhost:8080/"
        },
        "id": "Hlu9GekL67Eg",
        "outputId": "df9b7c08-abbd-4278-82c2-72bb3382b412"
      },
      "execution_count": null,
      "outputs": [
        {
          "output_type": "stream",
          "name": "stdout",
          "text": [
            "[[0. 1.]\n",
            " [2. 3.]\n",
            " [4. 5.]]\n"
          ]
        },
        {
          "output_type": "execute_result",
          "data": {
            "text/plain": [
              "array([[ 1.,  3.,  5.,  7.],\n",
              "       [ 3., 13., 23., 33.],\n",
              "       [ 5., 23., 41., 59.]])"
            ]
          },
          "metadata": {},
          "execution_count": 46
        }
      ]
    },
    {
      "cell_type": "code",
      "source": [
        "backward_shape = (X_shape[0], out_features)"
      ],
      "metadata": {
        "id": "7jJr-IrrPUG2"
      },
      "execution_count": null,
      "outputs": []
    },
    {
      "cell_type": "code",
      "source": [
        "back_grad = np.arange(np.prod(backward_shape), dtype=np.float64).reshape(backward_shape)\n",
        "back_grad"
      ],
      "metadata": {
        "colab": {
          "base_uri": "https://localhost:8080/"
        },
        "id": "JOBAK8rFPgfO",
        "outputId": "6888ecf3-6946-4bd5-8a3c-411115211c00"
      },
      "execution_count": null,
      "outputs": [
        {
          "output_type": "execute_result",
          "data": {
            "text/plain": [
              "array([[ 0.,  1.,  2.,  3.],\n",
              "       [ 4.,  5.,  6.,  7.],\n",
              "       [ 8.,  9., 10., 11.]])"
            ]
          },
          "metadata": {},
          "execution_count": 48
        }
      ]
    },
    {
      "cell_type": "code",
      "source": [
        "back_grad @ linear.weight.data"
      ],
      "metadata": {
        "colab": {
          "base_uri": "https://localhost:8080/"
        },
        "id": "Ejr07aP9-TE4",
        "outputId": "06c5c7b9-2248-4575-a500-fba583b876ec"
      },
      "execution_count": null,
      "outputs": [
        {
          "output_type": "execute_result",
          "data": {
            "text/plain": [
              "array([[ 28.,  34.],\n",
              "       [ 76.,  98.],\n",
              "       [124., 162.]])"
            ]
          },
          "metadata": {},
          "execution_count": 49
        }
      ]
    },
    {
      "cell_type": "code",
      "source": [
        "x.T @ back_grad"
      ],
      "metadata": {
        "colab": {
          "base_uri": "https://localhost:8080/"
        },
        "id": "UZP33HsSDDvC",
        "outputId": "51d14e0e-1766-4c8c-c91d-d2a9a79c8941"
      },
      "execution_count": null,
      "outputs": [
        {
          "output_type": "execute_result",
          "data": {
            "text/plain": [
              "array([[40., 46., 52., 58.],\n",
              "       [52., 61., 70., 79.]])"
            ]
          },
          "metadata": {},
          "execution_count": 50
        }
      ]
    },
    {
      "cell_type": "code",
      "source": [
        "linear.backward(back_grad)"
      ],
      "metadata": {
        "colab": {
          "base_uri": "https://localhost:8080/"
        },
        "id": "n3d1u3cr7oSi",
        "outputId": "a4b4acfd-cb19-40a8-8717-9a98d4fe6516"
      },
      "execution_count": null,
      "outputs": [
        {
          "output_type": "execute_result",
          "data": {
            "text/plain": [
              "array([[ 28.,  34.],\n",
              "       [ 76.,  98.],\n",
              "       [124., 162.]])"
            ]
          },
          "metadata": {},
          "execution_count": 51
        }
      ]
    },
    {
      "cell_type": "code",
      "source": [
        "print(linear.weight.grad.T)"
      ],
      "metadata": {
        "colab": {
          "base_uri": "https://localhost:8080/"
        },
        "id": "ur0cIjF_7kcH",
        "outputId": "ba7a0479-7690-410f-e75b-179a1b483e5d"
      },
      "execution_count": null,
      "outputs": [
        {
          "output_type": "stream",
          "name": "stdout",
          "text": [
            "[[40. 46. 52. 58.]\n",
            " [52. 61. 70. 79.]]\n"
          ]
        }
      ]
    },
    {
      "cell_type": "markdown",
      "source": [
        "#### Основные минусы текущей реализации\n",
        "\n",
        "1. Слои нельзя вызывать несколько раз до вызова backward, т.к. их кеши будут перезатираться.\n",
        "2. Слои отвечают за вычисление производной, хотя хочется иметь способ считать производные для любых переменных (в том числе входных).\n",
        "3. Нужно руками писать реализации backward'ов, т.к. нет автоматического дифференцирования.\n",
        "4. Всё считается только на CPU, это очень долго. На GPU сейчас считать невозможно.\n"
      ],
      "metadata": {
        "id": "IgETRAWVSI2N"
      }
    },
    {
      "cell_type": "markdown",
      "source": [
        "#### Контрольный вопрос\n",
        "Подсчитайте кол-во весов (оптимизируемых параметров) в каждом модуле."
      ],
      "metadata": {
        "id": "4RYqeAJFe9J5"
      }
    }
  ]
}